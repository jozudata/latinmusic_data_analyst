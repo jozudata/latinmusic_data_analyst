{
 "cells": [
  {
   "cell_type": "code",
   "execution_count": 38,
   "id": "1107c717-d67b-4c75-a22f-f0f5a9723d99",
   "metadata": {},
   "outputs": [],
   "source": [
    "# For this analysis i used the data based \n",
    "# Spotify tracks chart dataset (2014 - 2022) \n",
    "# https://www.kaggle.com/datasets/jfreyberg/spotify-chart-data \n",
    "# download the file as 'charts.csv'\n",
    "import pandas as pd # data procesing"
   ]
  },
  {
   "cell_type": "code",
   "execution_count": 2,
   "id": "cdc0bcf9-29fd-43bb-90a3-abd5f858193a",
   "metadata": {
    "scrolled": true
   },
   "outputs": [
    {
     "data": {
      "text/html": [
       "<div>\n",
       "<style scoped>\n",
       "    .dataframe tbody tr th:only-of-type {\n",
       "        vertical-align: middle;\n",
       "    }\n",
       "\n",
       "    .dataframe tbody tr th {\n",
       "        vertical-align: top;\n",
       "    }\n",
       "\n",
       "    .dataframe thead th {\n",
       "        text-align: right;\n",
       "    }\n",
       "</style>\n",
       "<table border=\"1\" class=\"dataframe\">\n",
       "  <thead>\n",
       "    <tr style=\"text-align: right;\">\n",
       "      <th></th>\n",
       "      <th>date</th>\n",
       "      <th>country</th>\n",
       "      <th>position</th>\n",
       "      <th>streams</th>\n",
       "      <th>track_id</th>\n",
       "      <th>artists</th>\n",
       "      <th>artist_genres</th>\n",
       "      <th>duration</th>\n",
       "      <th>explicit</th>\n",
       "      <th>name</th>\n",
       "    </tr>\n",
       "  </thead>\n",
       "  <tbody>\n",
       "    <tr>\n",
       "      <th>0</th>\n",
       "      <td>2021/04/15</td>\n",
       "      <td>de</td>\n",
       "      <td>82</td>\n",
       "      <td>625718</td>\n",
       "      <td>20IvMlpi4U5RuDnAlXSRiV</td>\n",
       "      <td>['Haftbefehl']</td>\n",
       "      <td>['german hip hop']</td>\n",
       "      <td>198746</td>\n",
       "      <td>False</td>\n",
       "      <td>Crackküche</td>\n",
       "    </tr>\n",
       "    <tr>\n",
       "      <th>1</th>\n",
       "      <td>2019/01/31</td>\n",
       "      <td>jp</td>\n",
       "      <td>171</td>\n",
       "      <td>50896</td>\n",
       "      <td>0V1K6MU0utODk4yNqZKsFv</td>\n",
       "      <td>['Suchmos']</td>\n",
       "      <td>['japanese r&amp;b', 'j-rock', 'japanese soul', 'j...</td>\n",
       "      <td>408320</td>\n",
       "      <td>False</td>\n",
       "      <td>WATER</td>\n",
       "    </tr>\n",
       "    <tr>\n",
       "      <th>2</th>\n",
       "      <td>2018/11/15</td>\n",
       "      <td>tr</td>\n",
       "      <td>59</td>\n",
       "      <td>185439</td>\n",
       "      <td>4qzZm5EIdFurBpDieEmVc9</td>\n",
       "      <td>['Nilipek.']</td>\n",
       "      <td>['turkish singer-songwriter', 'turkish rock']</td>\n",
       "      <td>257142</td>\n",
       "      <td>False</td>\n",
       "      <td>Gözleri Aşka Gülen</td>\n",
       "    </tr>\n",
       "    <tr>\n",
       "      <th>3</th>\n",
       "      <td>2018/11/22</td>\n",
       "      <td>tr</td>\n",
       "      <td>133</td>\n",
       "      <td>111159</td>\n",
       "      <td>4qzZm5EIdFurBpDieEmVc9</td>\n",
       "      <td>['Nilipek.']</td>\n",
       "      <td>['turkish singer-songwriter', 'turkish rock']</td>\n",
       "      <td>257142</td>\n",
       "      <td>False</td>\n",
       "      <td>Gözleri Aşka Gülen</td>\n",
       "    </tr>\n",
       "    <tr>\n",
       "      <th>4</th>\n",
       "      <td>2018/11/29</td>\n",
       "      <td>tr</td>\n",
       "      <td>166</td>\n",
       "      <td>96204</td>\n",
       "      <td>4qzZm5EIdFurBpDieEmVc9</td>\n",
       "      <td>['Nilipek.']</td>\n",
       "      <td>['turkish singer-songwriter', 'turkish rock']</td>\n",
       "      <td>257142</td>\n",
       "      <td>False</td>\n",
       "      <td>Gözleri Aşka Gülen</td>\n",
       "    </tr>\n",
       "  </tbody>\n",
       "</table>\n",
       "</div>"
      ],
      "text/plain": [
       "         date country  position  streams                track_id  \\\n",
       "0  2021/04/15      de        82   625718  20IvMlpi4U5RuDnAlXSRiV   \n",
       "1  2019/01/31      jp       171    50896  0V1K6MU0utODk4yNqZKsFv   \n",
       "2  2018/11/15      tr        59   185439  4qzZm5EIdFurBpDieEmVc9   \n",
       "3  2018/11/22      tr       133   111159  4qzZm5EIdFurBpDieEmVc9   \n",
       "4  2018/11/29      tr       166    96204  4qzZm5EIdFurBpDieEmVc9   \n",
       "\n",
       "          artists                                      artist_genres  \\\n",
       "0  ['Haftbefehl']                                 ['german hip hop']   \n",
       "1     ['Suchmos']  ['japanese r&b', 'j-rock', 'japanese soul', 'j...   \n",
       "2    ['Nilipek.']      ['turkish singer-songwriter', 'turkish rock']   \n",
       "3    ['Nilipek.']      ['turkish singer-songwriter', 'turkish rock']   \n",
       "4    ['Nilipek.']      ['turkish singer-songwriter', 'turkish rock']   \n",
       "\n",
       "   duration  explicit                name  \n",
       "0    198746     False          Crackküche  \n",
       "1    408320     False               WATER  \n",
       "2    257142     False  Gözleri Aşka Gülen  \n",
       "3    257142     False  Gözleri Aşka Gülen  \n",
       "4    257142     False  Gözleri Aşka Gülen  "
      ]
     },
     "execution_count": 2,
     "metadata": {},
     "output_type": "execute_result"
    }
   ],
   "source": [
    "# Headers \n",
    "df = pd.read_csv('charts.csv')\n",
    "df.head()"
   ]
  },
  {
   "cell_type": "code",
   "execution_count": 3,
   "id": "8f6ff053-e816-48f4-9351-29b2f6a5e083",
   "metadata": {
    "scrolled": true
   },
   "outputs": [
    {
     "name": "stdout",
     "output_type": "stream",
     "text": [
      "['de' 'jp' 'tr' 'co' 'hu' 'hk' 'fi' 'at' 'eg' 'dk' 'sg' 'global' 'us' 'br'\n",
      " 'ph' 'it' 'tw' 'ar' 'se' 'my' 'pt' 'cl' 'no' 'ch' 'ca' 'cz' 'mx' 'lv'\n",
      " 'gr' 'lt' 'ee' 'pe' 'sk' 'bg' 'mt' 'cr' 'uy' 'sv' 'py' 'ec' 'bo' 'il'\n",
      " 'in' 'gb' 'nl' 'za' 'pl' 'ro' 'be' 'fr' 'ru' 'ua' 'au' 'es' 'ie' 'nz'\n",
      " 'is' 'id' 'gt' 'lu' 'vn' 'pa' 'hn' 'ni' 'do' 'th' 'cy' 'ae' 'kr' 'sa'\n",
      " 'ma' 'ad' 'ng' 'kz' 'pk' 'by' 've']\n"
     ]
    }
   ],
   "source": [
    "print(df['country'].unique()) #show the list of countries"
   ]
  },
  {
   "cell_type": "code",
   "execution_count": 5,
   "id": "413e55ce-d827-471b-bb13-e9a40376d992",
   "metadata": {},
   "outputs": [
    {
     "name": "stdout",
     "output_type": "stream",
     "text": [
      "country_name\n",
      "Switzerland    90104\n",
      "Belgium        89482\n",
      "France         89427\n",
      "Italy          89416\n",
      "Luxembourg     72056\n",
      "Romania        50772\n",
      "Name: count, dtype: int64\n"
     ]
    }
   ],
   "source": [
    "#We select: France, Italy, Romanian, Suize, Luxemburgo, Belgium.. \n",
    "selected_countries = ['fr', 'it', 'ro', 'ch', 'lu', 'be']  # Modify this list as needed\n",
    "# to convert in an more understable way the country name\n",
    "country_names = {\n",
    "    'fr': 'France',\n",
    "    'it': 'Italy',\n",
    "    'ro': 'Romania',\n",
    "    'ch': 'Switzerland',\n",
    "    'lu': 'Luxembourg',\n",
    "    'be': 'Belgium'\n",
    "}\n",
    "#Create a new data frame with the countries to work \n",
    "filtered_df = df[df['country'].isin(selected_countries)].copy()\n",
    "filtered_df['country_name'] = filtered_df['country'].map(country_names)\n",
    "filtered_df.to_csv('filtered_charts.csv', index=False)\n",
    "print(filtered_df['country_name'].value_counts())"
   ]
  },
  {
   "cell_type": "code",
   "execution_count": 6,
   "id": "30dffc79-8edd-40fc-bbc6-5d41a5df96b8",
   "metadata": {},
   "outputs": [
    {
     "name": "stdout",
     "output_type": "stream",
     "text": [
      "         date country  position  streams                track_id  \\\n",
      "0  2014/08/10      it        44    55365  7GMeRGZax4uDKgz6wALWQw   \n",
      "1  2014/08/17      it        32    54746  7GMeRGZax4uDKgz6wALWQw   \n",
      "2  2014/08/24      it        30    61436  7GMeRGZax4uDKgz6wALWQw   \n",
      "3  2014/08/31      it        38    62250  7GMeRGZax4uDKgz6wALWQw   \n",
      "4  2014/09/07      it        25    94468  7GMeRGZax4uDKgz6wALWQw   \n",
      "\n",
      "        artists artist_genres  duration  explicit               name  \\\n",
      "0  ['Maroon 5']       ['pop']    239920     False  It Was Always You   \n",
      "1  ['Maroon 5']       ['pop']    239920     False  It Was Always You   \n",
      "2  ['Maroon 5']       ['pop']    239920     False  It Was Always You   \n",
      "3  ['Maroon 5']       ['pop']    239920     False  It Was Always You   \n",
      "4  ['Maroon 5']       ['pop']    239920     False  It Was Always You   \n",
      "\n",
      "  country_name  \n",
      "0        Italy  \n",
      "1        Italy  \n",
      "2        Italy  \n",
      "3        Italy  \n",
      "4        Italy  \n"
     ]
    }
   ],
   "source": [
    "#Open the new Data frame with selected countries \n",
    "df = pd.read_csv('filtered_charts.csv')\n",
    "print(df.head())"
   ]
  },
  {
   "cell_type": "code",
   "execution_count": 7,
   "id": "ecb7900c-bd78-49b8-83b7-e068709e1eb1",
   "metadata": {},
   "outputs": [
    {
     "name": "stdout",
     "output_type": "stream",
     "text": [
      "number of genres: 1309\n",
      "{'french indie pop', 'hip hop quebecois', 'metalcore', 'asian american hip hop', 'taiwan singer-songwriter', 'piano rock', 'italian post-hardcore', 'japanese edm', 'irish pop', 'oc rap', 'boston indie', 'zouglou', 'traphall', 'vallenato', 'german drill', 'american folk revival', 'indie poptimism', 'israeli singer-songwriter', 'yacht rock', 'korean ost', 'dutch americana', 'dream smp', 'breakbeat', 'russian pop', 'psychedelic rock', 'drum and bass', 'jazz trumpet', 'swiss rock', 'vintage chanson', 'pop electronico', 'disney italiano', 'french indietronica', 'turin indie', 'athens indie', 'shatta', 'german indie rock', 'bass house', 'colombian hip hop', 'underground rap', 'future house', 'southern soul', 'orchestral soundtrack', 'scottish singer-songwriter', 'nu disco', 'burkinabe pop', 'norwegian pop rap', 'dark clubbing', 'musique guadeloupe', 'ghanaian hip hop', 'balkan trap', 'reggae fusion', 'funk mtg', 'indie electropop', 'acoustic cover', 'belgian indie rock', 'spanish hip hop', 'swedish indie folk', 'funky tech house', 'drill francais', 'deep big room', 'trap soul', 'swedish hip hop', 'lilith', 'german underground rap', 'turkish deep house', 'palestinian hip hop', 'canadian pop punk', 'contemporary r&b', 'rap inde', 'york indie', 'cubaton', 'conscious hip hop', 'muzica copii', 'slovenian pop', 'glitch', 'dutch trance', 'manchester hip hop', 'punjabi pop', 'southern hip hop', 'indie folk italiano', 'shiver pop', 'grunge', 'musica sarda', 'polish hip hop', 'flamenco urbano', 'swedish eurodance', 'chicago soul', 'jazz guitar', 'latin viral pop', 'uk reggae', 'indiecoustica', 'modern salsa', 'zimdancehall', 'mande pop', 'new weird finland', 'dream trance', 'hip house', 'russian edm', 'g-house', 'bulgarian pop', 'chill r&b', 'kizomba antigas', 'scam rap', 'albanian hip hop', 'crunk', 'escape room', 'phonk', 'solo wave', 'girl group', 'harlem hip hop', 'amapiano', 'scream rap', 'virginia hip hop', 'australian reggae fusion', 'trap antillais', 'french tech house', 'trip hop', 'trap argentino', 'basshall', 'rock independant francais', 'soul', 'ukrainian rock', 'canadian rock', 'ghent indie', 'modern hard rock', 'reggae', 'german rock', 'atl trap', 'musique mahoraise', 'rkt', 'fado', 'country road', 'french pop', 'folk punk', 'cali rap', 'canadian electropop', 'dark plugg', 'hopebeat', 'beninese pop', 'harlem renaissance', 'indie anthem-folk', 'bedroom soul', 'uplifting trance', 'indie liguria', 'birmingham metal', 'country rock', 'afrobeat', 'nottingham indie', 'alte', 'k-pop girl group', 'baroque pop', 'neo-psychedelic', 'french synthpop', 'urban contemporary', 'britpop', 'glam rock', 'german indie', 'chilean hardcore', 'ukg revival', 'pittsburgh rap', 'lds youth', 'country rap', 'ambient pop', 'balkan folk metal', 'j-pop', 'pop venezolano', 'tropical', 'vogue', 'australian indie', 'arkansas country', 'boy band', 'idol', 'gabba', 'post-teen pop', 'ukrainian hip hop', 'writing', 'funk bh', 'dutch rock', 'trap triste', 'fluxwork', 'russian synthpop', 'musica portuguesa contemporanea', 'progressive trance', 'stomp and flutter', 'french soundtrack', 'polish pop', 'rap genovese', 'progressive rock', 'atl hip hop', 'rhythm and blues', 'swedish americana', 'narco rap', 'scandipop', 'german pop rock', 'vocal jazz', 'romanian rap', 'folk rock italiano', 'south african trap', 'soundtrack', 'pittsburgh rock', 'lounge', 'deep tech house', 'ukrainian indie', 'melanesian pop', 'japanese screamo', 'g funk', 'complextro', 'golden age hip hop', 'old school atlanta hip hop', 'swedish idol pop', 'electro-pop francais', 'birmingham grime', 'ukrainian pop', 'austrian hip hop', 'modern dream pop', 'native american', 'pop edm', 'sudanese hip hop', 'nu metal', 'san diego rap', 'bubblegum pop', 'wassoulou', 'classical performance', 'afro r&b', 'bolobedu house', 'rockabilly', 'gambian hip hop', 'pop violin', 'moombahton', 'german trance', 'etherpop', 'pop r&b', 'violin', 'dutch singer-songwriter', 'israeli pop', 'punk', 'melodic dubstep', 'boom bap', 'parody', 'jawaiian', 'funk rock', 'swiss indie', 'torch song', 'irish hip hop', 'romanian house', 'trap brasileiro', 'eau claire indie', 'uk funky', 'deep dance pop', 'dance rock', 'neo mellow', 'high vibe', 'rap rock', 'sad lo-fi', 'rap kreyol', 'funana', 'lo-fi cover', 'garage rock revival', 'hardstyle', 'electro house', 'levenslied', 'munich indie', 'french techno', 'spacegrunge', 'concurso de talentos argentino', 'bedroom pop', 'dutch pop', 'industrial', 'cumbia 420', 'fnaf', 'funk das antigas', 'melodic metalcore', 'tamil pop', 'piratenmuziek', 'garage house', 'drill brasileiro', 'bronx drill', 'electropowerpop', 'german soundtrack', 'hollywood', 'belgian pop', 'tvog', 'ukrainian viral pop', 'batida', 'christian pop', 'mexican electronic', 'zouk riddim', 'hardcore hip hop', 'hamburg indie', 'swedish trap pop', 'lo-fi chill', \"children's music\", 'neo-singer-songwriter', 'irish drill', 'japanese r&b', 'collage pop', 'traditional blues', 'rock', 'ghanaian pop', 'modern blues rock', 'swedish soul', 'trap mexicano', 'shimmer pop', 'soul blues', 'russian alt pop', 'christlicher rap', 'icelandic pop', 'afrofuturismo brasileiro', 'swedish underground rap', 'belgian new wave', 'new jack swing', 'uk drill', 'happy hardcore', 'funk consciente', 'industrial rock', 'yakut pop', 'belgian dnb', 'portland hip hop', 'neo-synthpop', 'rap algerien', 'drill espanol', 'bubble trance', 'afro house', 'rawstyle', 'rap canario', 'dutch trap', 'new orleans jazz', 'rome indie', 'funk pop', 'eurovision', 'armenian hip hop', 'french movie tunes', 'canadian trap', 'kizomba', 'bronx hip hop', 'old school thrash', 'bhangra', 'lo-fi beats', 'stomp pop', 'jump blues', 'experimental rock', 'funk ostentacao', 'gauze pop', 'metropopolis', 'mambo chileno', 'burmese pop', 'philly rap', 'grave wave', 'detroit rock', 'japanese metalcore', 'rap metal', 'pop argentino', 'canadian country', 'dark trap', 'musica santomense', 'brazilian hip hop', 'abstract beats', 'norwegian pop', 'italian hip hop', 'melbourne bounce international', 'makossa', 'austrian indie', 'canadian underground hip hop', 'future bass', 'alternative hip hop', 'buffalo hip hop', 'musical advocacy', 'chicago indie', 'brill building pop', 'art rock', 'lgbtq+ hip hop', 'italian underground hip hop', 'australian indie folk', 'nashville indie', 'flemish folk', 'german boom bap', 'kuduro', 'trap venezolano', 'native american contemporary', 'classic arab pop', 'dark pop', 'classic soul', 'desi hip hop', 'modern folk rock', 'microhouse', 'samurai trap', 'oakland hip hop', 'funk paulista', 'political hip hop', 'australian alternative rock', 'rai', 'compositional ambient', 'progressive electro house', 'polish trap', 'rap sardegna', 'swedish country', 'minimal techno', 'swedish indie pop', 'reggaeton colombiano', 'broadway', 'contemporary country', 'romanian electronic', 'washington indie', 'rock-and-roll', 'chill drill', 'yodeling', 'turbo folk', 'french indie folk', 'hands up', 'manele', 'euphoric hardstyle', 'gabonese pop', 'orlando indie', 'trap chileno', 'bass trap', 'deep adult standards', 'rap motywacja', 'celtic punk', 'country dawn', 'classic rock', 'dreamo', 'uk dance', 'neapolitan funk', 'new wave', 'chopped and screwed', 'indie rock italiano', 'jamaican hip hop', 'indie garage rock', 'channel pop', 'post-grunge', 'swiss indie folk', 'deep uplifting trance', 'kleinkunst', 'classic schlager', \"canzone d'autore\", 'swedish alternative rock', 'nigerian hip hop', 'classic romanian pop', 'mexican classic rock', 'st louis rap', 'miami hip hop', 'reggaeton', 'polish alternative rap', 'lithuanian electronic', 'italian progressive rock', 'chinese electronic', 'icelandic rock', 'mexican pop', 'nyc pop', 'reggaeton flow', 'anime', 'liverpool indie', 'rap dominicano', 'latin hip hop', 'r&b italiano', 'hip hop tuga', 'italian ska', 'desert blues', 'lithuanian pop', 'alternative dance', 'moldovan pop', 'canadian hip hop', 'contemporary vocal jazz', 'neo-classical', 'alternative metal', 'nice indie', 'belgian techno', 'xtra raw', 'german viral rap', 'modern indie pop', 'arab pop', 'battle rap', 'venezuelan hip hop', 'dancehall queen', 'groove room', 'italian lounge', 'slowed and reverb', 'celtic', 'cape town indie', 'seattle hip hop', 'australian dance', 'edm', 'dutch house', 'afro dancehall', 'modern country rock', 'hiplife', 'synthpop', 'big band', 'deep underground hip hop', 'pluggnb', 'houston rap', 'reggae rock', 'j-rock', 'tatar pop', 'bongo flava', 'filter house', 'rumba congolaise', 'smooth saxophone', 'hamburg hip hop', 'modern bollywood', 'swedish synthpop', 'israeli rock', 'boston folk', 'alternative country', 'cloud rap francais', 'german singer-songwriter', 'cologne indie', 'nottingham hip hop', 'kazakh hip hop', 'video game music', 'vincy soca', 'electro swing', 'russelater', 'estonian electronic', 'decije pesme', 'jam band', 'gaming dubstep', 'viral trap', 'pop punk', 'spirituals', 'french psychedelic', 'romanian indie', 'string orchestra', 'traprun', 'trap maroc', 'synth funk', 'noise pop', 'antiviral pop', 'trap tuga', 'riddim', 'canadian metal', 'disco', 'ska mexicano', 'musica angolana', 'memphis soul', 'tropical alternativo', 'deep pop edm', 'cambridgeshire indie', 'german jazz rap', 'german house', 'neomelodici', 'gqom', 'classic israeli pop', 'oxford indie', 'brazilian bass', 'alabama indie', 'electronica', 'korean pop', 'electro latino', 'irish singer-songwriter', 'german hip hop', 'pink noise', 'afrikaans hip hop', 'jazz funk', 'kora', 'sky room', 'sertanejo', 'frauenrap', 'nederlandse hardstyle', 'canadian punk', 'art pop', 'minneapolis sound', 'sad sierreno', 'swedish electropop', 'disco house', 'arrochadeira', 'cameroonian pop', 'permanent wave', 'chillstep', 'funky house', 'neo soul', 'oklahoma country', 'deep german hip hop', 'trap dominicano', 'experimental pop', 'tallava', 'rap congolais', 'madchester', 'cologne hip hop', 'soul jazz', 'dancefloor dnb', 'alternative pop rock', 'aesthetic rap', 'brooklyn drill', 'post-punk', 'canadian electronic', 'lovers rock', 'hawaiian hip hop', 'neo-manele', 'old school rap francais', 'rock keyboard', 'chamber pop', 'musica etnica', 'glam metal', 'new isolationism', 'rebel blues', 'dutch drill', 'italian jazz fusion', 'experimental', 'swedish reggae', 'muzica etno', 'bow pop', 'urbano espanol', 'afropop', 'bayerischer rap', 'ohio hip hop', 'belgian rock', 'taiwan classical performance', 'dirty south rap', 'flamenco guitar', 'estonian hip hop', 'jazztronica', 'french shoegaze', 'indie soul', 'german reggae', 'azonto', 'trancecore', 'veracruz indie', 'electrofox', 'romanian pop', 'sacramento hip hop', 'acoustic pop', 'afroswing', 'russian dance', 'instrumental funk', 'instrumental grime', 'jazz trio', 'heartland rock', 'chicago rap', 'gothenburg hip hop', 'speedrun', 'drill', 'rap criolo', 'romanian rock', 'volkspop', 'brazilian power metal', 'modern alternative rock', 'pop rock', 'palm desert scene', 'italo dance', 'rap maroc', 'mundart', 'east coast hip hop', 'anti-folk', 'spanish indie pop', 'turkish hip hop', 'swiss hip hop', 'show tunes', 'uk contemporary r&b', 'chinderlieder', 'spanish pop', 'trap italiana', 'hip-hop experimental', 'latin alternative', 'v-pop', 'italian electronica', 'axe', 'indie hip hop', 'cuban alternative', 'uk pop', 'batidao romantico', 'bachata dominicana', 'classic greek pop', 'canadian contemporary r&b', 'uk tech house', 'modern blues', 'upstate ny rap', 'vintage french electronic', 'dutch cabaret', 'neue deutsche harte', 'blues', 'italian indie pop', 'glitch hop', 'deep euro house', 'stoner rock', 'detroit hip hop', 'new rave', 'british indie rock', 'chinese electropop', 'irish folk', 'dutch rap pop', 'deep groove house', 'r&b', 'electropop', 'firenze indie', 'russian viral rap', 'doo-wop', 'boom bap espanol', 'outsider house', 'rap gabonais', 'nantes indie', 'british invasion', 'bubblegum dance', 'new americana', 'solomon islands pop', 'vlaamse rap', 'house', 'p funk', 'dutch musical', 'tennessee hip hop', 'italian pop', 'indonesian viral pop', 'ambient folk', 'halifax indie', 'west coast rap', 'salsa colombiana', 'south african pop', 'circuit', 'novelty', 'detroit trap', 'russian dance pop', 'alt z', 'destroy techno', 'pop rap brasileiro', 'french reggae', 'italian reggae', 'lo-fi product', 'fidget house', 'wonky', 'classic canadian rock', 'chicano rap', 'champeta', 'indie pop', 'afrofuturism', 'garage rock', 'rap italiano old school', 'brazilian house', 'k-rap', 'singer-songwriter', 'nz hip hop', 'j-division', 'milan indie', 'northern soul', 'classic uk pop', 'celtic rock', 'glitchcore', 'symphonic rock', 'turkish trap', 'british singer-songwriter', 'melodic rap', 'pop house', 'black americana', 'memphis hip hop', 'rap montrealais', 'south african alternative', 'rock en espanol', 'vapor trap', 'double drumming', 'plugg', 'rap calme', 'liedermacher', 'christian music', 'rock alternatif francais', 'hawaiian', 'canadian latin', 'latin talent show', 'dutch edm', 'kazakh pop', 'french hip hop', 'partyschlager', 'big room', 'soca', 'pop dance', 'r&b en espanol', 'post-screamo', 'brisbane indie', 'chicago drill', 'chillhop', 'beach music', 'hi-nrg', 'emo rap italiano', 'plugg francais', 'swiss pop', 'vlaamse kinderliedje', 'filmi', 'modern rock', 'british folk', 'vapor house', 'australian psych', 'roots reggae', 'blues rock', 'discofox', 'ectofolk', 'disney', 'surinamese pop', 'social media pop', 'mississippi hip hop', 'classic italian pop', 'bergamo indie', 'danish pop', 'musique comorienne', 'virgin islands reggae', 'deep tropical house', 'dream pop', 'turkish trap pop', 'industrial metal', 'psychokore', 'north carolina hip hop', 'vancouver indie', 'boston hip hop', 'urbano chileno', 'irish rock', 'musica per bambini', 'junior eurovision', 'greek hip hop', 'lebanese pop', 'chinese indie', 'rif', 'scottish rock', 'tech house', 'classic hardstyle', 'luxembourgian pop', 'australian house', 'laiko', 'russian gangster rap', 'gaming edm', 'folk', 'melodic drill', 'arabic hip hop', 'vapor twitch', 'mexican edm', 'semba', 'electro', 'minimal tech house', 'sudanese pop', 'kompa gouyad', 'french jazz', 'reggae tuga', 'german trap', 'deep disco house', 'russian hip hop', 'variete francaise', 'panamanian pop', 'nueva musica mexicana', 'musique urbaine kinshasa', 'soft rock', 'classic belgian pop', 'indian indie', 'tropical house', 'underground hip hop', 'rap siciliano', 'australian r&b', 'armenian pop', 'christian alternative rock', 'nu jazz', 'vapor pop', 'modern alternative pop', 'italian pop rock', 'rap latina', 'la indie', 'indie r&b', 'azontobeats', 'alabama rap', 'surf punk', 'dutch hip hop', 'beat italiano', 'vegas indie', 'turntablism', 'italian jazz', 'italian tenor', 'swedish singer-songwriter', 'scorecore', 'deep rai', 'australian electropop', '8d', 'folk-pop', 'uk house', 'norwegian indie', 'puerto rican pop', 'denton tx indie', 'aussietronica', 'la pop', 'kizomba cabo-verdiana', 'gym hardstyle', 'brazilian edm', 'pop virale italiano', 'future garage', 'pinoy hip hop', 'perreo', 'korean old school hip hop', 'nederpop', 'antideutsche', 'texas country', 'uk americana', 'german r&b', 'korean r&b', 'modern reggae', 'swedish drill', 'dmv rap', 'k-pop boy group', 'indietronica', 'swiss alternative rock', 'neoperreo', 'aussie drill', 'kansas city hip hop', 'chill pop', 'movie tunes', 'gypsy punk', 'dakke dak', 'chanson humoristique', 'philly indie', 'socal pop punk', 'rap tunisien', 'italian adult pop', 'trap latino', 'pop quebecois', 'rap espanol', 'popping', 'latin arena pop', 'dixieland', 'romanian metal', 'salsa', 'drill italiana', 'classical tenor', 'russian drill', 'reunion pop', 'a cappella', 'channel islands indie', 'swedish tropical house', 'ccm', 'trap beats', 'big beat', 'uk hip hop', 'melbourne bounce', 'progressive metal', 'progressive house', 'latvian pop', 'nightcore', 'viral pop', 'jazz fusion', 'pacific islands pop', 'brooklyn indie', 'gospel', 'nz pop', 'gen z singer-songwriter', 'jordanian pop', 'queens hip hop', 'pop lgbtq+ brasileira', 'crust punk', 'ottawa rap', 'vocal house', 'afro soul', 'teen pop', 'south african rock', 'classic girl group', 'guaracha', 'bboy', 'central asian hip hop', 'dembow', 'belgian indie', 'country pop', 'easy listening', 'argentine hip hop', 'sunnlensk tonlist', 'nederreggae', 'emo rap', 'czsk hip hop', 'swing', 'trap colombiano', 'uk alternative pop', 'worship', 'operatic pop', 'latin pop', 'electra', 'ninja', 'chillwave', 'experimental r&b', 'covertronica', 'portuguese rock', 'south carolina hip hop', 'cowboy western', 'europop', 'latin rock', 'drift phonk', 'persian pop', 'colombian pop', 'italian classical piano', 'classic swedish pop', 'indian edm', 'classic country pop', 'turkce kadin rap', 'bossbeat', 'mellow gold', 'german pop', 'new romantic', 'queercore', 'electronic trap', 'merseybeat', 'strut', 'pixie', 'italian soundtrack', 'belgian electronic', 'deep house', 'hyphy', 'glee club', 'german metal', 'norwegian hip hop', 'romanian trap', 'deep liquid bass', 'australian comedy', 'weightless', 'antilliaanse rap', 'musica canaria', 'lithuanian rock', 'hip pop', 'jazz boom bap', 'post-romantic era', 'rap marseille', 'dutch indie', 'candy pop', 'electric blues', 'stomp and holler', 'rap', 'indie siciliano', 'canzone napoletana', 'grime', 'belgian edm', 'kosovan pop', 'chinese audiophile', 'australian pop', 'funk', 'nintendocore', 'pop soul', 'italian tech house', 'luxembourgian hip hop', 'jumpstyle', 'viral rap', 'german alternative rap', 'swiss singer-songwriter', 'new orleans rap', 'ska punk', 'anime drill', 'psychedelic pop', 'dfw rap', 'new york drill', 'trap queen', 'rap boricua', 'old school dancehall', 'pop peruano', 'talent show', 'francoton', 'australian alternative pop', 'schweizer rap', 'bubblegrunge', 'funk carioca', 'gothenburg indie', 'jazz rap', 'uk bass', 'rock drums', 'beats', 'australian hip hop', 'kentucky hip hop', 'el paso indie', 'slowcore', 'dark disco', 'bmore', 'oulu metal', 'new jersey underground rap', 'emo trap italiana', 'slovak hip hop', 'dubstep', 'dominican pop', 'rap angolano', 'arrocha', 'beatlesque', 'chinese jazz', 'nouvelle chanson francaise', 'hoerspiel', 'sertanejo pop', 'balkan hip hop', 'jazz blues', 'adult standards', 'tekk', 'swiss reggae', 'ye ye', 'trap', 'hard rock', 'sad rap', 'dark jazz', 'muzica moldoveneasca', 'alternative r&b', 'danish hip hop', 'rap francais', \"women's music\", 'roots rock', 'trap metal italiana', 'malian blues', 'nova mpb', 'modern funk', 'ghanaian alternative', 'chamber orchestra', 'toronto rap', 'slack-key guitar', 'meme rap', 'canadian pop', 'punk blues', 'indie pop rap', 'london rap', 'czech pop', 'dance pop', 'pop', 'slap house', 'nordic house', 'danish electronic', 'rumba', 'pop urbaine', 'uk melodic rap', 'german techno', 'bc underground hip hop', 'pop nacional', 'pop rap', 'ukrainian classical', 'screamo', 'swiss trap', 'quiet storm', 'rap napoletano', 'belgian dance', 'stoner metal', 'trap boricua', 'new jersey rap', 'funk metal', 'norwegian folk rock', 'world', 'jazz pop', 'post-disco', 'austrian pop', 'northern irish indie', 'uk dancehall', 'australian rock', 'leipzig electronic', 'vocal harmony group', 'british alternative rock', 'southern rock', 'bachata', 'rap lyonnais', 'trance', 'hardcore techno', 'balkan beats', 'bergen indie', 'album rock', 'protopunk', 'pagode', 'canadian folk', 'sophisti-pop', 'philly drill', 'sertanejo universitario', 'devon indie', 'indie folk', 'italian disco', 'austropop', 'west-vlaamse hip hop', 'kindermusik', 'rap romantico', 'outlaw country', 'k-pop', 'sheffield indie', 'soulful house', 'florida rap', 'italian new wave', 'swedish dancehall', 'downtempo', 'rap liegeois', 'kenyan hip hop', 'rap francais nouvelle vague', 'eurodance', 'jersey club', 'metal', 'shoegaze', 'hyperpop', 'nyc rap', 'icelandic indie', 'gangster rap', 'alberta hip hop', 'alternative rock', 'experimental house', 'tamil hip hop', 'nigerian pop', 'kenyan drill', 'dutch underground hip hop', 'ritmo kombina', 'reggae maghreb', 'bassline', 'british soul', 'rhode island rap', 'rap moldovenesc', 'australian talent show', 'chicago bop', 'indie napoletano', 'thrash metal', 'lithuanian edm', 'albanian pop', 'west australian hip hop', 'r&b argentino', 'portuguese pop', 'south african hip hop', 'german cloud rap', 'deconstructed club', 'transpop', 'kurdish hip hop', 'indonesian hip hop', 'sunshine pop', 'canadian singer-songwriter', 'breaks', 'french rock', 'motown', 'barbadian pop', 'new french touch', 'italian alternative', 'ndombolo', 'rap toscana', 'finnish pop', 'belgian hip hop', 'spiritual hip hop', 'chanson virale', 'dutch r&b', 'swedish trap', 'indie surf', 'rap ivoire', 'jazz orchestra', 'anthem worship', 'sped up', 'urbano latino', 'dub metal', 'c-pop', 'norwegian singer-songwriter', 'baton rouge rap', 'neue neue deutsche welle', 'traditional country', 'rave', 'dancehall', 'estonian pop', 'frenchcore', 'deep flow', 'balearic', 'bolero', 'german dance', 'english indie rock', 'swedish pop', \"man's orchestra\", 'quebec indie', 'greek trap', 'rap belge', 'uk alternative hip hop', 'indie quebecois', 'mexican hip hop', 'emo', 'indie rock', 'west coast trap', 'psychedelic soul', 'canadian indie', 'deep talent show', 'latin afrobeat', 'chanson', 'rap conscient', 'comedy rap', 'weirdcore', 'austindie', 'new wave pop', 'rap antillais', 'melancholia', 'belgian singer-songwriter', 'vapor soul', 'punjabi hip hop', 'uk metalcore', 'comic', 'turkish edm', 'minnesota hip hop', 'country', 'cumbia', 'mandopop', 'brostep', 'flamenco', 'arabesk', 'psychedelic hip hop', 'maltese pop', 'oldschool deutschrap', 'greek pop', 'german indie folk', 'canadian old school hip hop', 'liquid funk', 'hip hop', 'south african house', 'png pop', 'desi pop', 'carnaval', 'pagode baiano', 'old school hip hop', 'afghan rap', 'slovak pop', 'neon pop punk', 'ai', 'pop reggaeton', 'brighton indie', 'light music', 'swedish gangsta rap', 'moroccan pop', 'scandinavian r&b', 'smooth jazz', 'chamber psych', 'dancehall guyanaise', 'hyperpop italiano', 'uk garage', 'christmas instrumental', 'south african pop dance', 'jamaican dancehall', 'mashup', 'sega mauricien', 'schlager', 'folk rock'}\n"
     ]
    }
   ],
   "source": [
    "#Now we need to work with artist genre to extract it and classify latin genres \n",
    "import ast\n",
    "df['artist_genres'] = df['artist_genres'].apply(lambda x: eval(x) if isinstance(x, str) else x)\n",
    "all_genres = []  #create the list for all genres \n",
    "#iteratoin to extract genres from all lists in a big list \n",
    "for genres in df['artist_genres']:\n",
    "    all_genres.extend(genres)\n",
    "    \n",
    "unique_genres = set(all_genres)\n",
    "print('number of genres:', len(unique_genres))\n",
    "print(unique_genres)"
   ]
  },
  {
   "cell_type": "code",
   "execution_count": 8,
   "id": "dc2a725b-8735-4622-9d7c-2a0fe62195c8",
   "metadata": {
    "scrolled": true
   },
   "outputs": [],
   "source": [
    "# In this step i review all genres and clasify by hand the latins related include spain\n",
    "selected_genres = {\n",
    "    'r&b en espanol', 'latin alternative', 'tropical alternativo', 'trap triste',\n",
    "    'trap colombiano', 'pop electronico', 'rap boricua', 'reggaeton colombiano', 'mexican classic rock',\n",
    "    'salsa colombiana', 'bolero', 'miami hip hop', 'guaracha', 'bachata dominicana', 'mexican edm',\n",
    "    'narco rap', 'vallenato', 'experimental rock', 'colombian pop', 'argentine hip hop', 'dembow',\n",
    "    'pop argentino', 'cuban alternative', 'mexican pop', 'trap dominicano', 'trap chileno', 'puerto rican pop',\n",
    "    'champeta', 'el paso indie', 'drill espanol', 'rap latina', 'latin arena pop', 'spanish indie pop',\n",
    "    'spanish pop', 'venezuelan hip hop', 'chicano rap', 'nueva musica mexicana', 'trap boricua', 'trap mexicano',\n",
    "    'latin talent show', 'trap latino', 'latin rock', 'electro latino', 'colombian hip hop', 'rap espanol',\n",
    "    'concurso de talentos argentino', 'dominican pop', 'pop peruano', 'rap dominicano', 'trap venezolano',\n",
    "    'spanish hip hop', 'latin viral pop', 'pop nacional', 'mexican electronic', 'mexican hip hop', 'pop reggaeton',\n",
    "    'urbano espanol', 'latin hip hop', 'cumbia 420', 'cubaton', 'rock en espanol'\n",
    "}\n"
   ]
  },
  {
   "cell_type": "code",
   "execution_count": 21,
   "id": "2ba92e66-c195-4259-adba-e679175c029e",
   "metadata": {},
   "outputs": [],
   "source": [
    "# Clasify genres as latin or not latin \n",
    "def get_genre_type(genres):\n",
    "    if isinstance(genres, list):\n",
    "        for genre in genres:\n",
    "            # Normalize genre: lowercase and strip spaces\n",
    "            g = genre.strip().lower()\n",
    "            if g in selected_genres:\n",
    "                return 'latino'\n",
    "    return 'no_latino'\n",
    "\n",
    "df['genre_type'] = df['artist_genres'].apply(get_genre_type)"
   ]
  },
  {
   "cell_type": "code",
   "execution_count": 22,
   "id": "f09d5f40-e030-4a38-96d2-6f3b36a45fa0",
   "metadata": {},
   "outputs": [
    {
     "name": "stdout",
     "output_type": "stream",
     "text": [
      "Percentage of Latin genres streamings in the region: 6.29%\n"
     ]
    }
   ],
   "source": [
    "# Percentaje streaming latin and no latin in the region \n",
    "streamings_by_genre = df.groupby('genre_type')['streams'].sum()\n",
    "total_streamings = streamings_by_genre.sum()\n",
    "latin_streamings = streamings_by_genre.get('latino', 0)\n",
    "latin_percentage = (latin_streamings / total_streamings) * 100\n",
    "print(f\"Percentage of Latin genres streamings in the region: {latin_percentage:.2f}%\")"
   ]
  },
  {
   "cell_type": "code",
   "execution_count": 23,
   "id": "01f76b78-183e-433d-9c90-71d2b57bb74b",
   "metadata": {},
   "outputs": [
    {
     "name": "stdout",
     "output_type": "stream",
     "text": [
      "country_name\n",
      "Italy          8.640330\n",
      "Switzerland    8.105592\n",
      "Luxembourg     7.478445\n",
      "Belgium        4.566415\n",
      "Romania        4.376555\n",
      "France         3.892205\n",
      "dtype: float64\n"
     ]
    }
   ],
   "source": [
    "# Percentaje streaming Latin and no latin by countries\n",
    "streamings_by_country_genre = df.groupby(['country_name', 'genre_type'])['streams'].sum().unstack(fill_value=0)\n",
    "streamings_by_country = df.groupby('country_name')['streams'].sum()\n",
    "latin_percentage_by_country = (streamings_by_country_genre['latino'] / streamings_by_country) * 100\n",
    "print(latin_percentage_by_country.sort_values(ascending=False))"
   ]
  },
  {
   "cell_type": "code",
   "execution_count": 37,
   "id": "94874a36-cc6a-4fe7-90f4-7fa3cffeb2bf",
   "metadata": {},
   "outputs": [
    {
     "name": "stdout",
     "output_type": "stream",
     "text": [
      "                  track_id                                               name  \\\n",
      "0   2B4GHvToeLTOBB4QLzW3Ni                                              Pepas   \n",
      "1   6swHvavSroD4ur3Q18MjYz                  Una volta ancora (feat. Ana Mena)   \n",
      "2   5w9c2J52mkdntKOmRLeM2m                                          Con Calma   \n",
      "3   6osaMSJh9NguagEDQcZaKx              Loco Contigo (feat. J. Balvin & Tyga)   \n",
      "4   4w8niZpiMy6qz1mntFA5uM     Taki Taki (with Selena Gomez, Ozuna & Cardi B)   \n",
      "5   5iwz1NiezX7WWjnCgY5TH4                                      Calma - Remix   \n",
      "6   7k4t7uLgtOxPwTpFmtJNTY                                               Tusa   \n",
      "7   3ee8Jmje8o58CHK66QrVC2                                               SAD!   \n",
      "8   24IgCW19L8lXKyFZwzFtD3                                           MAMACITA   \n",
      "9   50DsGEqRiQr6KdEYi0NuSP                 s!r! (feat. Lazza & Sfera Ebbasta)   \n",
      "10  3YNcQUeVOpM3SDmwBeGfMK                              A Un Passo Dalla Luna   \n",
      "11  0JP9xo3adEtGSdUEISiszL                                          Moonlight   \n",
      "12  6cy3ki60hLwimwIje7tALf                          RITMO (Bad Boys For Life)   \n",
      "13  4aWmUDTfIPGksMNLV2rQP2                 Despacito (Featuring Daddy Yankee)   \n",
      "14  4MzXwWMhyBbmu6hOcLVD49                                             DÁKITI   \n",
      "15  3dCEtkAfWhk15bLAWZAKLy                 D'estate non vale (feat. Ana Mena)   \n",
      "16  7uH27oIt4a6cIFCA8ZPcyG                                  Baila Baila Baila   \n",
      "17  5Vwqy3CS2aCB6jcgm1qWfk                                   Amore e Capoeira   \n",
      "18  39N9RPD9MRb5WmoLzNzPeA                                                  X   \n",
      "19  4iMigesJsEKt8JczIwUrBO                            Un bacio all'improvviso   \n",
      "20  116H0KvKr2Zl4RPuVBruDO                                  MIA (feat. Drake)   \n",
      "21  2vBET2pmrQqafaS6zIaYta                                       GIRL LIKE ME   \n",
      "22  6dmXZ9B5HdFAyzHeTneYBK                          LA FAMA (with The Weeknd)   \n",
      "23  58q2HKrzhC3ozto2nDdN4z                                          I Like It   \n",
      "24  1zsG4eaZmkA1dvjDDsAGLK                                    Échame La Culpa   \n",
      "25  3V8UKqhEK5zBkBb6d6ub8i                                    Te Boté - Remix   \n",
      "26  0HFkCSXRTUHCYJ148PdD0v                              Paloma (feat. Anitta)   \n",
      "27  4nrPB8O7Y7wsOCJdgXkthe              Shakira: Bzrp Music Sessions, Vol. 53   \n",
      "28  7m9OqQk4RVRkw9JJdeAw96                                     Jocelyn Flores   \n",
      "29  3h043RAJ7tKaG1HDFeet6w                                 Hace Calor - Remix   \n",
      "30  4L5ZhW0VJeQ6je2iqvqZ4X                               Baby (with J Balvin)   \n",
      "31  1G2CAJeP7rCwOZjlSJ0Zw3                Que Calor (with J Balvin & El Alfa)   \n",
      "32  2rb5MvYT7ZIxbKW5hfcHx8                                           Mi Gente   \n",
      "33  2ksOAxtIxY8yElEWw8RhgK                                              China   \n",
      "34  0l8vhDaEztxLCQsFOAX64d                                              Pablo   \n",
      "35  6De0lHrwBfPfrhorm9q1Xl                                          Me Rehúso   \n",
      "36  6FyRXC8tJUh863JCkyWqtk                                         Adan y Eva   \n",
      "37  43ic0un1f9Nak0ZCQgvKjY                                           Yo No Sé   \n",
      "38  5CtI0qwDJkDQGwXD1H1cLb                                  Despacito - Remix   \n",
      "39  0YammaEkYSeo9vQYZ1OwS6                                        Say My Name   \n",
      "40  3VvA1wSxukMLsvXoXtlwWx                                       Hecha Pa' Mi   \n",
      "41  1xUnvxp9DFrpwXnO0RHKUp      Cookies N' Cream (feat. ANNA & Sfera Ebbasta)   \n",
      "42  7d7xucQmFY7PoESyJm2V9J                                          Mamma Mia   \n",
      "43  2j2fIJGh4PMdXt9ULI5Tlc                                               Dura   \n",
      "44  2LskIZrCeLxRvCiGP8gxlh          Arms Around You (feat. Maluma & Swae Lee)   \n",
      "45  4Ld3RS6KBXGsvtfmnjxlVl                  El Perdón (with Enrique Iglesias)   \n",
      "46  1kI7mZAziaRfBeAOraRW1i                Dorado (feat. Sfera Ebbasta & Feid)   \n",
      "47  6OYZvwKN8GaauTrJS1TuuH           Dancing On Dangerous (feat. Sofía Reyes)   \n",
      "48  7nKBxz47S9SD79N086fuhn  SUBEME LA RADIO (feat. Descemer Bueno & Zion &...   \n",
      "49  4w47S36wQGBhGg073q3nt7                           TKN (feat. Travis Scott)   \n",
      "\n",
      "                                              artists    streams  \n",
      "0                                         ['Farruko']  132909742  \n",
      "1                       ['Fred De Palma', 'Ana Mena']  113133104  \n",
      "2                            ['Daddy Yankee', 'Snow']   95982043  \n",
      "3                    ['DJ Snake', 'J Balvin', 'Tyga']   89547885  \n",
      "4    ['DJ Snake', 'Selena Gomez', 'Ozuna', 'Cardi B']   87587788  \n",
      "5                           ['Pedro Capó', 'Farruko']   87221656  \n",
      "6                          ['KAROL G', 'Nicki Minaj']   85688669  \n",
      "7                                    ['XXXTENTACION']   81117267  \n",
      "8         ['Black Eyed Peas', 'Ozuna', 'J. Rey Soul']   80188641  \n",
      "9                ['thasup', 'Lazza', 'Sfera Ebbasta']   78685096  \n",
      "10                         ['Rocco Hunt', 'Ana Mena']   78320354  \n",
      "11                                   ['XXXTENTACION']   77029348  \n",
      "12                    ['Black Eyed Peas', 'J Balvin']   67337328  \n",
      "13                     ['Luis Fonsi', 'Daddy Yankee']   65937014  \n",
      "14                       ['Bad Bunny', 'Jhay Cortez']   64347077  \n",
      "15                      ['Fred De Palma', 'Ana Mena']   61696739  \n",
      "16                                          ['Ozuna']   61135192  \n",
      "17  ['Takagi & Ketra', 'Giusy Ferreri', 'Sean King...   59174660  \n",
      "18                          ['Nicky Jam', 'J Balvin']   58788344  \n",
      "19                         ['Rocco Hunt', 'Ana Mena']   54126674  \n",
      "20                             ['Bad Bunny', 'Drake']   54114657  \n",
      "21                     ['Black Eyed Peas', 'Shakira']   48569282  \n",
      "22                          ['ROSALÍA', 'The Weeknd']   48101003  \n",
      "23               ['Cardi B', 'Bad Bunny', 'J Balvin']   46882602  \n",
      "24                      ['Luis Fonsi', 'Demi Lovato']   46079565  \n",
      "25  ['Nio Garcia', 'Casper Magico', 'Bad Bunny', '...   45467026  \n",
      "26                        ['Fred De Palma', 'Anitta']   43855216  \n",
      "27                            ['Bizarrap', 'Shakira']   43313182  \n",
      "28                                   ['XXXTENTACION']   43076907  \n",
      "29  ['Kaleb Di Masi', 'Sfera Ebbasta', 'Rvfv', 'Om...   42972598  \n",
      "30                      ['Sfera Ebbasta', 'J Balvin']   42443237  \n",
      "31    ['Major Lazer', 'J Balvin', 'El Alfa', 'Diplo']   41788502  \n",
      "32                      ['J Balvin', 'Willy William']   40515615  \n",
      "33  ['Anuel AA', 'Daddy Yankee', 'KAROL G', 'J Bal...   40474977  \n",
      "34                       ['Rvssian', 'Sfera Ebbasta']   39642635  \n",
      "35                                    ['Danny Ocean']   38613836  \n",
      "36                                   ['Paulo Londra']   37221944  \n",
      "37                              ['Rvfv', 'Pablo Mas']   37157165  \n",
      "38    ['Luis Fonsi', 'Daddy Yankee', 'Justin Bieber']   36967265  \n",
      "39         ['David Guetta', 'Bebe Rexha', 'J Balvin']   36611607  \n",
      "40                                           ['Boza']   35374101  \n",
      "41                   ['Guè', 'ANNA', 'Sfera Ebbasta']   35255326  \n",
      "42                       ['Sfera Ebbasta', 'Rvssian']   33668062  \n",
      "43                                   ['Daddy Yankee']   32700886  \n",
      "44  ['XXXTENTACION', 'Lil Pump', 'Swae Lee', 'Malu...   32520870  \n",
      "45                  ['Nicky Jam', 'Enrique Iglesias']   32344454  \n",
      "46               ['Mahmood', 'Sfera Ebbasta', 'Feid']   32206448  \n",
      "47            ['Imanbek', 'Sean Paul', 'Sofía Reyes']   31996926  \n",
      "48  ['Enrique Iglesias', 'Descemer Bueno', 'Zion &...   31246589  \n",
      "49                        ['ROSALÍA', 'Travis Scott']   30428068  \n"
     ]
    }
   ],
   "source": [
    "#Top 50 latins songs by region \n",
    "# Filter dataframe to keep only Latin songs\n",
    "latin_songs_df = df[df['genre_type'] == 'latino']\n",
    "# Use the filter dataframe and group by track_id and name, \n",
    "#summing streams and taking the first artist\n",
    "streams_per_song = latin_songs_df.groupby(['track_id', 'name']).agg({\n",
    "    'streams': 'sum',\n",
    "    'artists': 'first'\n",
    "})\n",
    "# Sort descending by streams\n",
    "streams_per_song_sorted = streams_per_song.sort_values('streams', ascending=False)\n",
    "# Get top 50 and reset index\n",
    "top_50_songs = streams_per_song_sorted.head(50).reset_index()\n",
    "# Reorder columns so that artists comes before streams\n",
    "top_50_songs = top_50_songs[['track_id', 'name', 'artists', 'streams']]\n",
    "print(top_50_songs)\n",
    "#save to xlsx\n",
    "top_50_songs.to_excel('top_50_latin_songs.xlsx', index=False)\n"
   ]
  },
  {
   "cell_type": "code",
   "execution_count": null,
   "id": "60bece37-eeb5-4814-bf80-c8ceaf602e38",
   "metadata": {},
   "outputs": [],
   "source": []
  }
 ],
 "metadata": {
  "kernelspec": {
   "display_name": "Python 3 (ipykernel)",
   "language": "python",
   "name": "python3"
  },
  "language_info": {
   "codemirror_mode": {
    "name": "ipython",
    "version": 3
   },
   "file_extension": ".py",
   "mimetype": "text/x-python",
   "name": "python",
   "nbconvert_exporter": "python",
   "pygments_lexer": "ipython3",
   "version": "3.13.3"
  }
 },
 "nbformat": 4,
 "nbformat_minor": 5
}
