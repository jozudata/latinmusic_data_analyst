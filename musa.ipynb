{
 "cells": [
  {
   "cell_type": "code",
   "execution_count": 1,
   "id": "1107c717-d67b-4c75-a22f-f0f5a9723d99",
   "metadata": {},
   "outputs": [],
   "source": [
    "# For this analysis i used the data set \n",
    "# Spotify tracks chart dataset (2014 - 2022) \n",
    "# https://www.kaggle.com/datasets/jfreyberg/spotify-chart-data \n",
    "# download the file as 'charts.csv'\n",
    "import pandas as pd # data procesing"
   ]
  },
  {
   "cell_type": "code",
   "execution_count": 2,
   "id": "cdc0bcf9-29fd-43bb-90a3-abd5f858193a",
   "metadata": {
    "scrolled": true
   },
   "outputs": [
    {
     "data": {
      "text/html": [
       "<div>\n",
       "<style scoped>\n",
       "    .dataframe tbody tr th:only-of-type {\n",
       "        vertical-align: middle;\n",
       "    }\n",
       "\n",
       "    .dataframe tbody tr th {\n",
       "        vertical-align: top;\n",
       "    }\n",
       "\n",
       "    .dataframe thead th {\n",
       "        text-align: right;\n",
       "    }\n",
       "</style>\n",
       "<table border=\"1\" class=\"dataframe\">\n",
       "  <thead>\n",
       "    <tr style=\"text-align: right;\">\n",
       "      <th></th>\n",
       "      <th>date</th>\n",
       "      <th>country</th>\n",
       "      <th>position</th>\n",
       "      <th>streams</th>\n",
       "      <th>track_id</th>\n",
       "      <th>artists</th>\n",
       "      <th>artist_genres</th>\n",
       "      <th>duration</th>\n",
       "      <th>explicit</th>\n",
       "      <th>name</th>\n",
       "    </tr>\n",
       "  </thead>\n",
       "  <tbody>\n",
       "    <tr>\n",
       "      <th>0</th>\n",
       "      <td>2021/04/15</td>\n",
       "      <td>de</td>\n",
       "      <td>82</td>\n",
       "      <td>625718</td>\n",
       "      <td>20IvMlpi4U5RuDnAlXSRiV</td>\n",
       "      <td>['Haftbefehl']</td>\n",
       "      <td>['german hip hop']</td>\n",
       "      <td>198746</td>\n",
       "      <td>False</td>\n",
       "      <td>Crackküche</td>\n",
       "    </tr>\n",
       "    <tr>\n",
       "      <th>1</th>\n",
       "      <td>2019/01/31</td>\n",
       "      <td>jp</td>\n",
       "      <td>171</td>\n",
       "      <td>50896</td>\n",
       "      <td>0V1K6MU0utODk4yNqZKsFv</td>\n",
       "      <td>['Suchmos']</td>\n",
       "      <td>['japanese r&amp;b', 'j-rock', 'japanese soul', 'j...</td>\n",
       "      <td>408320</td>\n",
       "      <td>False</td>\n",
       "      <td>WATER</td>\n",
       "    </tr>\n",
       "    <tr>\n",
       "      <th>2</th>\n",
       "      <td>2018/11/15</td>\n",
       "      <td>tr</td>\n",
       "      <td>59</td>\n",
       "      <td>185439</td>\n",
       "      <td>4qzZm5EIdFurBpDieEmVc9</td>\n",
       "      <td>['Nilipek.']</td>\n",
       "      <td>['turkish singer-songwriter', 'turkish rock']</td>\n",
       "      <td>257142</td>\n",
       "      <td>False</td>\n",
       "      <td>Gözleri Aşka Gülen</td>\n",
       "    </tr>\n",
       "    <tr>\n",
       "      <th>3</th>\n",
       "      <td>2018/11/22</td>\n",
       "      <td>tr</td>\n",
       "      <td>133</td>\n",
       "      <td>111159</td>\n",
       "      <td>4qzZm5EIdFurBpDieEmVc9</td>\n",
       "      <td>['Nilipek.']</td>\n",
       "      <td>['turkish singer-songwriter', 'turkish rock']</td>\n",
       "      <td>257142</td>\n",
       "      <td>False</td>\n",
       "      <td>Gözleri Aşka Gülen</td>\n",
       "    </tr>\n",
       "    <tr>\n",
       "      <th>4</th>\n",
       "      <td>2018/11/29</td>\n",
       "      <td>tr</td>\n",
       "      <td>166</td>\n",
       "      <td>96204</td>\n",
       "      <td>4qzZm5EIdFurBpDieEmVc9</td>\n",
       "      <td>['Nilipek.']</td>\n",
       "      <td>['turkish singer-songwriter', 'turkish rock']</td>\n",
       "      <td>257142</td>\n",
       "      <td>False</td>\n",
       "      <td>Gözleri Aşka Gülen</td>\n",
       "    </tr>\n",
       "  </tbody>\n",
       "</table>\n",
       "</div>"
      ],
      "text/plain": [
       "         date country  position  streams                track_id  \\\n",
       "0  2021/04/15      de        82   625718  20IvMlpi4U5RuDnAlXSRiV   \n",
       "1  2019/01/31      jp       171    50896  0V1K6MU0utODk4yNqZKsFv   \n",
       "2  2018/11/15      tr        59   185439  4qzZm5EIdFurBpDieEmVc9   \n",
       "3  2018/11/22      tr       133   111159  4qzZm5EIdFurBpDieEmVc9   \n",
       "4  2018/11/29      tr       166    96204  4qzZm5EIdFurBpDieEmVc9   \n",
       "\n",
       "          artists                                      artist_genres  \\\n",
       "0  ['Haftbefehl']                                 ['german hip hop']   \n",
       "1     ['Suchmos']  ['japanese r&b', 'j-rock', 'japanese soul', 'j...   \n",
       "2    ['Nilipek.']      ['turkish singer-songwriter', 'turkish rock']   \n",
       "3    ['Nilipek.']      ['turkish singer-songwriter', 'turkish rock']   \n",
       "4    ['Nilipek.']      ['turkish singer-songwriter', 'turkish rock']   \n",
       "\n",
       "   duration  explicit                name  \n",
       "0    198746     False          Crackküche  \n",
       "1    408320     False               WATER  \n",
       "2    257142     False  Gözleri Aşka Gülen  \n",
       "3    257142     False  Gözleri Aşka Gülen  \n",
       "4    257142     False  Gözleri Aşka Gülen  "
      ]
     },
     "execution_count": 2,
     "metadata": {},
     "output_type": "execute_result"
    }
   ],
   "source": [
    "# Headers \n",
    "df = pd.read_csv('charts.csv')\n",
    "df.head()"
   ]
  },
  {
   "cell_type": "code",
   "execution_count": 3,
   "id": "8f6ff053-e816-48f4-9351-29b2f6a5e083",
   "metadata": {
    "scrolled": true
   },
   "outputs": [
    {
     "name": "stdout",
     "output_type": "stream",
     "text": [
      "['de' 'jp' 'tr' 'co' 'hu' 'hk' 'fi' 'at' 'eg' 'dk' 'sg' 'global' 'us' 'br'\n",
      " 'ph' 'it' 'tw' 'ar' 'se' 'my' 'pt' 'cl' 'no' 'ch' 'ca' 'cz' 'mx' 'lv'\n",
      " 'gr' 'lt' 'ee' 'pe' 'sk' 'bg' 'mt' 'cr' 'uy' 'sv' 'py' 'ec' 'bo' 'il'\n",
      " 'in' 'gb' 'nl' 'za' 'pl' 'ro' 'be' 'fr' 'ru' 'ua' 'au' 'es' 'ie' 'nz'\n",
      " 'is' 'id' 'gt' 'lu' 'vn' 'pa' 'hn' 'ni' 'do' 'th' 'cy' 'ae' 'kr' 'sa'\n",
      " 'ma' 'ad' 'ng' 'kz' 'pk' 'by' 've']\n"
     ]
    }
   ],
   "source": [
    "print(df['country'].unique()) #show the list of countries"
   ]
  },
  {
   "cell_type": "code",
   "execution_count": 4,
   "id": "413e55ce-d827-471b-bb13-e9a40376d992",
   "metadata": {},
   "outputs": [
    {
     "name": "stdout",
     "output_type": "stream",
     "text": [
      "country_name\n",
      "Switzerland    90104\n",
      "Belgium        89482\n",
      "France         89427\n",
      "Italy          89416\n",
      "Luxembourg     72056\n",
      "Romania        50772\n",
      "Name: count, dtype: int64\n"
     ]
    }
   ],
   "source": [
    "#We select: France, Italy, Romanian, Suize, Luxemburgo, Belgium.. \n",
    "selected_countries = ['fr', 'it', 'ro', 'ch', 'lu', 'be']  # Modify this list as needed\n",
    "# to convert in an more understable way the country name\n",
    "country_names = {\n",
    "    'fr': 'France',\n",
    "    'it': 'Italy',\n",
    "    'ro': 'Romania',\n",
    "    'ch': 'Switzerland',\n",
    "    'lu': 'Luxembourg',\n",
    "    'be': 'Belgium'\n",
    "}\n",
    "#Create a new data frame with the countries to work \n",
    "filtered_df = df[df['country'].isin(selected_countries)].copy()\n",
    "filtered_df['country_name'] = filtered_df['country'].map(country_names)\n",
    "filtered_df.to_csv('filtered_charts.csv', index=False)\n",
    "print(filtered_df['country_name'].value_counts())"
   ]
  },
  {
   "cell_type": "code",
   "execution_count": 5,
   "id": "30dffc79-8edd-40fc-bbc6-5d41a5df96b8",
   "metadata": {},
   "outputs": [
    {
     "name": "stdout",
     "output_type": "stream",
     "text": [
      "         date country  position  streams                track_id  \\\n",
      "0  2014/08/10      it        44    55365  7GMeRGZax4uDKgz6wALWQw   \n",
      "1  2014/08/17      it        32    54746  7GMeRGZax4uDKgz6wALWQw   \n",
      "2  2014/08/24      it        30    61436  7GMeRGZax4uDKgz6wALWQw   \n",
      "3  2014/08/31      it        38    62250  7GMeRGZax4uDKgz6wALWQw   \n",
      "4  2014/09/07      it        25    94468  7GMeRGZax4uDKgz6wALWQw   \n",
      "\n",
      "        artists artist_genres  duration  explicit               name  \\\n",
      "0  ['Maroon 5']       ['pop']    239920     False  It Was Always You   \n",
      "1  ['Maroon 5']       ['pop']    239920     False  It Was Always You   \n",
      "2  ['Maroon 5']       ['pop']    239920     False  It Was Always You   \n",
      "3  ['Maroon 5']       ['pop']    239920     False  It Was Always You   \n",
      "4  ['Maroon 5']       ['pop']    239920     False  It Was Always You   \n",
      "\n",
      "  country_name  \n",
      "0        Italy  \n",
      "1        Italy  \n",
      "2        Italy  \n",
      "3        Italy  \n",
      "4        Italy  \n"
     ]
    }
   ],
   "source": [
    "#Open the new Data frame with selected countries \n",
    "df = pd.read_csv('filtered_charts.csv')\n",
    "print(df.head())"
   ]
  },
  {
   "cell_type": "code",
   "execution_count": 6,
   "id": "ecb7900c-bd78-49b8-83b7-e068709e1eb1",
   "metadata": {},
   "outputs": [
    {
     "name": "stdout",
     "output_type": "stream",
     "text": [
      "number of genres: 1309\n",
      "{'indie r&b', 'anti-folk', 'buffalo hip hop', 'dark plugg', 'pittsburgh rock', 'alberta hip hop', 'balearic', 'indie soul', 'vapor twitch', 'indie rock italiano', 'socal pop punk', 'channel islands indie', 'new jersey underground rap', 'arrocha', 'latin hip hop', 'chanson virale', 'sophisti-pop', 'moroccan pop', 'french pop', 'devon indie', 'hi-nrg', 'gangster rap', 'virgin islands reggae', 'nottingham hip hop', 'south carolina hip hop', 'reggae fusion', 'detroit hip hop', 'musica per bambini', 'danish hip hop', 'lithuanian electronic', 'brisbane indie', 'wassoulou', 'folk-pop', 'boom bap espanol', 'chill drill', 'german rock', 'post-screamo', 'pittsburgh rap', 'russian dance pop', 'soul jazz', 'pagode', 'new isolationism', 'post-romantic era', 'dutch rock', 'chill pop', 'gambian hip hop', 'lo-fi chill', 'romanian pop', 'v-pop', 'ai', 'disney', 'czech pop', 'afrofuturism', 'german techno', 'scream rap', 'groove room', 'dreamo', 'detroit rock', 'christlicher rap', 'roots reggae', 'reunion pop', 'traditional country', 'soca', 'belgian new wave', 'classic swedish pop', 'russian synthpop', 'estonian electronic', 'rkt', 'oxford indie', 'oulu metal', 'funk bh', 'mexican pop', 'drift phonk', 'east coast hip hop', 'polish hip hop', 'belgian rock', 'kleinkunst', 'musica etnica', 'canadian electropop', 'rap latina', 'schlager', \"children's music\", 'melodic metalcore', 'san diego rap', 'australian r&b', 'rap belge', 'musique urbaine kinshasa', 'classic hardstyle', 'hollywood', 'dutch edm', 'puerto rican pop', 'show tunes', 'dixieland', 'brazilian house', 'romanian house', 'lithuanian rock', 'mexican classic rock', 'arrochadeira', 'turkish hip hop', 'brooklyn indie', 'volkspop', 'italian indie pop', 'jumpstyle', 'rave', 'indie napoletano', 'belgian edm', 'rif', 'neue neue deutsche welle', 'sad rap', 'dark pop', 'southern rock', 'romanian metal', 'escape room', 'wonky', 'reggae maghreb', 'chillwave', 'battle rap', 'german metal', 'bedroom soul', 'light music', 'italo dance', 'danish electronic', 'canadian singer-songwriter', 'latin afrobeat', 'rap', 'st louis rap', 'australian pop', 'tvog', 'afropop', 'alternative r&b', 'funk ostentacao', 'italian jazz fusion', 'rap boricua', 'classic greek pop', 'virginia hip hop', 'rock-and-roll', 'australian indie folk', 'rap antillais', 'candy pop', 'italian ska', 'stomp and holler', 'classic romanian pop', 'chanson humoristique', 'p funk', 'portuguese rock', 'brostep', 'cowboy western', 'collage pop', 'florida rap', 'uk contemporary r&b', 'german pop rock', 'kansas city hip hop', 'doo-wop', 'russian pop', 'christmas instrumental', 'swedish reggae', 'string orchestra', \"canzone d'autore\", 'glitchcore', 'houston rap', 'microhouse', 'australian reggae fusion', 'canadian underground hip hop', 'german trap', 'modern alternative pop', 'french indietronica', 'nyc pop', 'israeli singer-songwriter', 'persian pop', 'deep uplifting trance', 'canadian hip hop', 'dark disco', 'chicago rap', 'sertanejo pop', 'latin pop', 'pop edm', 'south african trap', 'vincy soca', 'neo-manele', 'gabba', 'jawaiian', 'rawstyle', 'viral rap', 'new rave', 'swedish electropop', 'german r&b', 'miami hip hop', 'pacific islands pop', 'nightcore', 'soulful house', 'glee club', 'swedish americana', 'mandopop', 'belgian dance', 'deep tech house', 'gym hardstyle', 'popping', 'turbo folk', 'vogue', 'australian rock', 'funk carioca', 'future bass', 'musique guadeloupe', 'modern folk rock', 'quiet storm', 'baroque pop', 'jazz funk', 'armenian hip hop', 'jamaican dancehall', 'american folk revival', 'bachata dominicana', 'swiss indie', 'melbourne bounce', 'blues', 'weightless', 'classic uk pop', 'turkish edm', 'nigerian hip hop', 'norwegian indie', 'quebec indie', 'bboy', 'basshall', 'rap italiano old school', 'belgian electronic', 'oldschool deutschrap', 'dutch drill', 'german drill', 'chinese electronic', 'russian viral rap', 'canadian punk', 'rumba congolaise', 'trap maroc', 'protopunk', 'rock alternatif francais', 'garage rock', 'minneapolis sound', 'italian progressive rock', 'trap dominicano', 'electro swing', 'country', 'mexican hip hop', 'scam rap', 'indie hip hop', 'swing', 'swedish drill', 'japanese screamo', 'slowed and reverb', 'detroit trap', 'boston hip hop', 'lithuanian edm', 'bc underground hip hop', 'swiss reggae', 'eau claire indie', 'solo wave', 'britpop', 'maltese pop', 'new wave', 'classic girl group', 'album rock', 'weirdcore', 'slowcore', 'lilith', 'riddim', 'australian alternative rock', 'world', 'new orleans jazz', 'swedish trap', 'south african house', 'taiwan singer-songwriter', 'italian disco', 'nottingham indie', 'funk das antigas', 'makossa', 'neo soul', 'anime', 'oakland hip hop', 'desi hip hop', 'r&b argentino', 'canadian pop punk', 'funk paulista', 'grime', 'spirituals', 'panamanian pop', 'south african alternative', 'french reggae', 'scandipop', 'post-grunge', 'k-pop girl group', 'folk', 'dutch r&b', 'sped up', 'concurso de talentos argentino', 'modern hard rock', 'deep groove house', 'lithuanian pop', 'brazilian edm', 'halifax indie', 'gothenburg indie', 'dutch pop', 'ska mexicano', 'spanish indie pop', 'azonto', 'dutch house', 'dancefloor dnb', 'fnaf', 'gothenburg hip hop', 'axe', 'underground hip hop', 'italian classical piano', 'pink noise', 'icelandic pop', 'lo-fi beats', 'old school hip hop', 'jazztronica', 'brazilian hip hop', 'tech house', 'french indie folk', 'muzica copii', 'sunshine pop', 'musica canaria', 'dark trap', 'deep talent show', 'finnish pop', 'electro latino', 'neo mellow', 'piratenmuziek', 'french techno', 'german soundtrack', 'asian american hip hop', 'fluxwork', 'trance', 'alternative rock', 'variete francaise', 'firenze indie', 'electronica', 'italian tech house', 'lo-fi product', 'rock independant francais', 'reggaeton flow', 'portland hip hop', 'noise pop', 'dutch hip hop', 'dutch rap pop', 'jordanian pop', 'romanian rock', 'traditional blues', 'rap moldovenesc', 'amapiano', 'bhangra', 'rap kreyol', 'brighton indie', 'celtic', 'bolero', 'drill', 'sacramento hip hop', 'funky house', 'estonian pop', 'west coast rap', 'beatlesque', 'luxembourgian hip hop', 'pop peruano', 'francoton', 'garage rock revival', 'new romantic', 'urbano chileno', 'j-pop', 'afghan rap', 'classical performance', 'arabic hip hop', 'new jersey rap', 'vocal harmony group', 'rap francais nouvelle vague', 'canadian latin', 'nyc rap', 'kompa gouyad', 'c-pop', 'kuduro', 'french synthpop', 'ambient pop', 'musica santomense', 'pop', 'rap algerien', 'celtic rock', 'rap gabonais', 'guaracha', 'deep dance pop', 'girl group', 'lebanese pop', 'dark jazz', 'beach music', 'neoperreo', 'italian new wave', 'christian alternative rock', 'champeta', 'bedroom pop', 'deep pop edm', 'singer-songwriter', 'chanson', 'sad sierreno', 'trancecore', 'pagode baiano', 'hamburg indie', 'swedish singer-songwriter', 'punk', 'discofox', 'balkan folk metal', 'nederlandse hardstyle', 'hyperpop italiano', 'mambo chileno', 'swedish eurodance', 'austrian pop', 'vlaamse kinderliedje', 'irish singer-songwriter', 'kindermusik', 'kazakh hip hop', 'hyphy', 'shiver pop', 'indian indie', 'nantes indie', 'norwegian hip hop', 'rap toscana', 'breaks', 'beninese pop', 'hopebeat', 'modern indie pop', 'belgian techno', 'dancehall queen', 'trap triste', 'canadian country', 'strut', 'bass house', 'trap metal italiana', 'modern salsa', 'rap calme', 'balkan trap', 'alte', 'icelandic rock', 'ghanaian pop', 'indie folk italiano', 'trap mexicano', 'shoegaze', 'bachata', 'soul', 'slovak pop', 'turkish trap pop', 'smooth jazz', 'post-teen pop', 'swedish synthpop', 'trap tuga', 'dfw rap', 'emo rap', 'cubaton', 'ninja', 'australian talent show', 'chilean hardcore', 'classic rock', 'future garage', 'mande pop', 'mexican electronic', 'rebel blues', 'rhode island rap', 'chinese audiophile', 'frauenrap', 'vocal jazz', 'rap siciliano', 'tennessee hip hop', 'new weird finland', 'trap beats', 'austindie', 'venezuelan hip hop', 'big beat', 'kazakh pop', 'swiss alternative rock', 'christian music', 'a cappella', 'munich indie', 'afrikaans hip hop', 'indie electropop', 'dominican pop', 'vallenato', 'pop rap brasileiro', 'el paso indie', 'ukrainian viral pop', 'athens indie', 'nova mpb', 'czsk hip hop', 'hip hop tuga', 'spacegrunge', 'jazz boom bap', 'rome indie', 'korean pop', 'kosovan pop', 'pop r&b', 'trap brasileiro', 'instrumental funk', 'pop argentino', 'neo-synthpop', 'french indie pop', 'neo-singer-songwriter', 'sega mauricien', 'indie garage rock', 'italian post-hardcore', 'contemporary country', 'glam metal', 'rock drums', 'country pop', 'british folk', 'psychedelic rock', 'dubstep', 'ritmo kombina', 'bubblegum pop', 'deep liquid bass', 'electra', 'queens hip hop', 'swedish gangsta rap', 'german viral rap', 'sky room', 'glitch', 'belgian dnb', 'swiss singer-songwriter', 'washington indie', 'mississippi hip hop', 'garage house', 'covertronica', 'australian dance', 'classic belgian pop', 'rap motywacja', 'jazz orchestra', 'brooklyn drill', 'lovers rock', 'new orleans rap', 'laiko', 'canadian indie', 'png pop', 'austrian hip hop', 'norwegian pop', 'rock', 'electro-pop francais', 'korean r&b', 'antideutsche', 'boy band', 'scandinavian r&b', 'german trance', 'alternative metal', 'compositional ambient', 'progressive metal', 'r&b', 'golden age hip hop', 'funk consciente', 'central asian hip hop', 'progressive trance', 'cameroonian pop', 'dutch trap', 'big band', 'neo-psychedelic', 'belgian pop', 'indie poptimism', 'brazilian bass', 'italian tenor', 'estonian hip hop', 'electropop', 'german reggae', 'dutch underground hip hop', 'blues rock', 'frenchcore', 'korean old school hip hop', 'emo', 'slovak hip hop', 'german house', 'french shoegaze', 'uplifting trance', 'russian drill', 'metal', 'hiplife', 'latin rock', 'bmore', 'dancehall guyanaise', 'moombahton', 'bubblegum dance', 'trap argentino', 'desi pop', 'native american contemporary', 'cologne hip hop', 'dmv rap', 'uk bass', 'canzone napoletana', 'bolobedu house', 'emo trap italiana', 'italian jazz', 'stomp pop', 'neomelodici', 'etherpop', 'soul blues', 'nu jazz', 'vintage french electronic', 'ectofolk', 'deep german hip hop', 'indie anthem-folk', 'rap rock', 'argentine hip hop', 'nu disco', 'euphoric hardstyle', 'belgian indie rock', 'japanese r&b', 'taiwan classical performance', 'musique mahoraise', 'bongo flava', 'russian gangster rap', 'swedish hip hop', 'flamenco guitar', 'hip house', 'progressive electro house', 'antiviral pop', 'northern soul', 'electropowerpop', 'antilliaanse rap', 'nz hip hop', 'dutch americana', 'industrial metal', 'rap marseille', 'pop electronico', 'jam band', 'tekk', 'romanian trap', 'indie liguria', 'ukrainian pop', 'desert blues', 'progressive rock', 'narco rap', 'traphall', 'bossbeat', 'uk americana', 'fidget house', 'reggaeton', 'nice indie', 'austrian indie', 'batida', 'uk hip hop', 'brazilian power metal', 'slack-key guitar', 'jazz fusion', 'modern bollywood', 'vapor trap', 'indonesian hip hop', 'ohio hip hop', 'latin viral pop', 'roots rock', 'neon pop punk', 'vapor pop', 'new york drill', 'south african rock', 'cuban alternative', 'baton rouge rap', 'chill r&b', 'rhythm and blues', 'manchester hip hop', 'west coast trap', 'spiritual hip hop', 'greek trap', 'spanish hip hop', 'classic italian pop', 'turkce kadin rap', 'native american', 'atl hip hop', 'folk rock italiano', 'french movie tunes', 'rock en espanol', 'liquid funk', 'ska punk', 'electric blues', 'deep flow', 'teen pop', 'permanent wave', 'cloud rap francais', 'ottawa rap', 'ghanaian hip hop', 'glitch hop', 'australian comedy', 'kentucky hip hop', 'german indie rock', 'viral pop', 'kizomba antigas', 'melodic drill', 'viral trap', 'uk alternative pop', 'progressive house', 'new jack swing', 'swiss indie folk', 'orlando indie', 'country road', 'albanian pop', 'classic arab pop', 'turkish deep house', 'high vibe', 'uk melodic rap', 'sertanejo universitario', 'k-pop boy group', 'belgian hip hop', 'german hip hop', 'vocal house', 'idol', 'rap liegeois', 'pop nacional', 'minnesota hip hop', 'dutch singer-songwriter', 'punjabi pop', 'punjabi hip hop', 'chicago indie', 'outsider house', 'latin arena pop', 'latin talent show', 'swiss pop', 'oc rap', 'cali rap', 'rap criolo', 'lounge', 'tropical', 'bergamo indie', 'hip pop', 'post-disco', 'afro house', 'irish hip hop', 'indie pop rap', 'downtempo', 'house', 'indietronica', 'musica sarda', 'rap maroc', 'french rock', 'tropical house', 'experimental r&b', 'novelty', 'jazz rap', 'dancehall', 'scottish singer-songwriter', 'ghanaian alternative', 'chicago drill', 'classic israeli pop', 'rai', 'trap soul', 'trap', 'solomon islands pop', 'movie tunes', 'deep underground hip hop', 'classic canadian rock', 'nederreggae', 'southern hip hop', 'indie rock', 'bubblegrunge', 'italian reggae', 'alabama rap', 'norwegian folk rock', 'chinese indie', 'danish pop', 'destroy techno', 'ghent indie', 'r&b en espanol', 'russian alt pop', 'gypsy punk', 'gabonese pop', 'disney italiano', 'eurovision', 'israeli rock', 'dutch musical', 'pop dance', 'german alternative rap', 'electro house', 'indiecoustica', 'yakut pop', 'alt z', 'rap lyonnais', 'japanese metalcore', 'musica angolana', 'north carolina hip hop', 'philly indie', 'pop reggaeton', 'uk drill', 'german dance', 'grunge', 'g funk', 'cape town indie', 'uk house', 'psychokore', 'albanian hip hop', 'deep euro house', 'alternative country', 'ccm', 'hip-hop experimental', 'swedish indie pop', 'trap venezolano', 'rap canario', 'korean ost', 'polish alternative rap', 'italian alternative', 'south african hip hop', 'jazz blues', 'funk', 'experimental', 'urbano espanol', 'italian electronica', 'palestinian hip hop', 'salsa', 'muzica moldoveneasca', 'indie folk', 'hawaiian', 'swedish idol pop', 'pop quebecois', 'drill italiana', 'minimal tech house', 'chillstep', 'surf punk', 'happy hardcore', 'romanian indie', 'anthem worship', 'afrobeat', 'bubble trance', 'canadian rock', 'mexican edm', 'vintage chanson', 'bergen indie', 'manele', 'bassline', 'worship', 'melancholia', 'afro r&b', 'emo rap italiano', 'indie siciliano', 'chicano rap', 'levenslied', 'boom bap', 'afrofuturismo brasileiro', 'moldovan pop', 'queercore', 'chinderlieder', 'vlaamse rap', 'reggaeton colombiano', 'partyschlager', 'soft rock', 'drill brasileiro', 'trap antillais', 'comic', 'brill building pop', 'nueva musica mexicana', 'rap genovese', 'instrumental grime', 'birmingham metal', 'pop violin', 'german cloud rap', 'british alternative rock', 'semba', 'slovenian pop', 'dub metal', 'screamo', 'pop virale italiano', 'celtic punk', 'funk mtg', 'japanese edm', 'art rock', 'romanian electronic', 'country dawn', 'junior eurovision', 'milan indie', 'turntablism', 'orchestral soundtrack', 'hoerspiel', 'cumbia 420', 'boston folk', 'trip hop', 'beat italiano', 'adult standards', 'texas country', 'ambient folk', 'new americana', 'hardcore hip hop', 'vancouver indie', 'italian lounge', 'experimental house', 'psychedelic soul', 'melodic rap', 'irish drill', 'english indie rock', 'stomp and flutter', 'synthpop', 'memphis hip hop', 'australian hip hop', 'contemporary vocal jazz', 'british singer-songwriter', 'speedrun', 'romanian rap', 'upstate ny rap', 'r&b italiano', 'aesthetic rap', 'latin alternative', 'dirty south rap', 'chinese electropop', 'palm desert scene', 'plugg francais', 'hardcore techno', 'tamil hip hop', 'portuguese pop', 'south african pop dance', 'bronx hip hop', 'rap conscient', 'dance rock', 'metropopolis', 'kenyan drill', 'balkan hip hop', 'drum and bass', 'northern irish indie', 'surinamese pop', 'trap chileno', 'austropop', 'pluggnb', 'dembow', 'k-pop', 'rap metal', 'australian alternative pop', 'complextro', 'pop punk', 'la pop', 'g-house', 'alabama indie', 'modern dream pop', 'italian adult pop', 'chicago soul', 'abstract beats', 'german indie', 'memphis soul', 'swedish tropical house', 'plugg', 'phonk', 'british indie rock', 'rock keyboard', 'jump blues', 'nigerian pop', 'rap inde', 'nashville indie', 'political hip hop', 'reggae tuga', 'uk tech house', 'hardstyle', 'german pop', 'azontobeats', 'uk reggae', 'zimdancehall', 'pop lgbtq+ brasileira', 'burmese pop', 'uk pop', 'disco house', 'broadway', 'easy listening', 'crust punk', 'canadian old school hip hop', 'afro soul', 'colombian hip hop', 'rockabilly', 'experimental pop', 'italian pop rock', 'new wave pop', 'harlem renaissance', 'classic country pop', 'edm', 'schweizer rap', 'la indie', 'cologne indie', 'barbadian pop', 'australian psych', 'pop rap', 'indie surf', 'musica portuguesa contemporanea', 'chillhop', 'norwegian singer-songwriter', 'swedish underground rap', 'old school rap francais', 'alternative hip hop', 'lds youth', 'dakke dak', 'liverpool indie', 'comedy rap', 'german indie folk', 'birmingham grime', 'swiss trap', \"women's music\", 'hamburg hip hop', 'kora', 'musical advocacy', 'uk dancehall', 'funk pop', 'chamber pop', 'grave wave', 'yacht rock', 'sudanese pop', 'j-rock', 'slap house', 'hawaiian hip hop', 'ukg revival', 'vegas indie', 'canadian trap', 'rumba', 'samurai trap', 'flamenco urbano', 'jersey club', 'indie quebecois', 'funk rock', 'arabesk', 'sheffield indie', 'afro dancehall', 'chamber psych', 'decije pesme', 'art pop', 'lo-fi cover', 'swedish indie folk', 'arab pop', 'spanish pop', 'italian soundtrack', 'musique comorienne', 'electro', 'post-punk', 'circuit', 'minimal techno', 'burkinabe pop', 'drill espanol', 'modern alternative rock', 'israeli pop', '8d', 'symphonic rock', 'hyperpop', 'drill francais', 'ukrainian rock', 'europop', 'irish rock', 'rap montrealais', \"man's orchestra\", 'italian pop', 'indonesian viral pop', 'rap angolano', 'indie pop', 'deep big room', 'deep tropical house', 'colombian pop', 'uk funky', 'gaming dubstep', 'motown', 'carnaval', 'ndombolo', 'eurodance', 'balkan beats', 'social media pop', 'filter house', 'zouk riddim', 'traprun', 'neapolitan funk', 'london rap', 'jazz pop', 'hands up', 'soundtrack', 'swedish trap pop', 'kizomba', 'southern soul', 'deconstructed club', 'neo-classical', 'armenian pop', 'swedish pop', 'seattle hip hop', 'muzica etno', 'future house', 'arkansas country', 'pop urbaine', 'gaming edm', 'industrial', 'aussietronica', 'aussie drill', 'channel pop', 'swiss rock', 'thrash metal', 'jazz trio', 'trap boricua', 'video game music', 'chicago bop', 'modern rock', 'rap sardegna', 'swedish dancehall', 'modern blues', 'liedermacher', 'acoustic cover', 'modern funk', 'veracruz indie', 'underground rap', 'contemporary r&b', 'sertanejo', 'uk alternative hip hop', 'scorecore', 'french psychedelic', 'urban contemporary', 'belgian singer-songwriter', 'nordic house', 'trap queen', 'ukrainian classical', 'smooth saxophone', 'indian edm', 'turin indie', 'jazz guitar', 'trap colombiano', 'australian house', 'zouglou', 'pop venezolano', 'pinoy hip hop', 'icelandic indie', 'violin', 'french soundtrack', 'yodeling', 'dream pop', 'luxembourgian pop', 'fado', 'philly drill', 'experimental rock', 'old school atlanta hip hop', 'funky tech house', 'scottish rock', 'kenyan hip hop', 'glam rock', 'stoner rock', 'norwegian pop rap', 'pixie', 'pop rock', 'breakbeat', 'torch song', 'afroswing', 'classic schlager', 'acoustic pop', 'dutch indie', 'christian pop', 'cambridgeshire indie', 'irish folk', 'sudanese hip hop', 'boston indie', 'swedish country', 'new french touch', 'filmi', 'rap ivoire', 'dance pop', 'melanesian pop', 'lgbtq+ hip hop', 'west-vlaamse hip hop', 'modern blues rock', 'piano rock', 'denton tx indie', 'pop house', 'tatar pop', 'toronto rap', 'swiss hip hop', 'shatta', 'bass trap', 'cumbia', 'greek pop', 'rap tunisien', 'french hip hop', 'rap congolais', 'metalcore', 'uk dance', 'canadian pop', 'salsa colombiana', 'melodic dubstep', 'electronic trap', 'nintendocore', 'chinese jazz', 'oklahoma country', 'belgian indie', 'beats', 'neue deutsche harte', 'synth funk', 'bayerischer rap', 'canadian folk', 'anime drill', 'polish pop', 'alternative dance', 'uk metalcore', 'double drumming', 'canadian contemporary r&b', 'perreo', 'uk garage', 'electrofox', 'british soul', 'rap francais', 'heartland rock', 'mellow gold', 'bow pop', 'german jazz rap', 'french tech house', 'philly rap', 'meme rap', 'atl trap', 'shimmer pop', 'conscious hip hop', 'rap romantico', 'nz pop', 'talent show', 'australian electropop', 'operatic pop', 'batidao romantico', 'nu metal', 'modern reggae', 'funk metal', 'melbourne bounce international', 'hip hop quebecois', 'gauze pop', 'ukrainian hip hop', 'dark clubbing', 'irish pop', 'dutch cabaret', 'york indie', 'italian hip hop', 'urbano latino', 'outlaw country', 'flamenco', 'writing', 'dutch trance', 'old school dancehall', 'folk punk', 'turkish trap', 'deep rai', 'gqom', 'vapor house', 'sad lo-fi', 'modern country rock', 'greek hip hop', 'old school thrash', 'russian dance', 'chopped and screwed', 'punk blues', 'hard rock', 'classical tenor', 'swedish soul', 'trap italiana', 'madchester', 'reggae', 'german singer-songwriter', 'xtra raw', 'russian hip hop', 'tallava', 'tropical alternativo', 'british invasion', 'rap dominicano', 'swedish alternative rock', 'italian underground hip hop', 'classic soul', 'psychedelic hip hop', 'transpop', 'merseybeat', 'country rock', 'south african pop', 'harlem hip hop', 'jazz trumpet', 'folk rock', 'j-division', 'trap latino', 'funana', 'mundart', 'kizomba cabo-verdiana', 'stoner metal', 'reggae rock', 'german boom bap', 'tamil pop', 'parody', 'crunk', 'nederpop', 'deep disco house', 'gospel', 'k-rap', 'malian blues', 'french jazz', 'leipzig electronic', 'bronx drill', 'disco', 'canadian metal', 'bulgarian pop', 'flemish folk', 'vapor soul', 'sunnlensk tonlist', 'ye ye', 'russelater', 'alternative pop rock', 'kurdish hip hop', 'country rap', 'deep adult standards', 'big room', 'industrial rock', 'australian indie', 'chamber orchestra', 'latvian pop', 'german underground rap', 'black americana', 'mashup', 'hip hop', 'deep house', 'gen z singer-songwriter', 'rap espanol', 'dream smp', 'west australian hip hop', 'psychedelic pop', 'nouvelle chanson francaise', 'russian edm', 'polish trap', 'rap napoletano', 'dream trance', 'jamaican hip hop', 'ukrainian indie', 'pop soul', 'canadian electronic'}\n"
     ]
    }
   ],
   "source": [
    "#Now we need to work with artist genre to extract it and classify latin genres \n",
    "import ast\n",
    "df['artist_genres'] = df['artist_genres'].apply(lambda x: eval(x) if isinstance(x, str) else x)\n",
    "all_genres = []  #create the list for all genres \n",
    "#iteratoin to extract genres from all lists in a big list \n",
    "for genres in df['artist_genres']:\n",
    "    all_genres.extend(genres)\n",
    "    \n",
    "unique_genres = set(all_genres)\n",
    "print('number of genres:', len(unique_genres))\n",
    "print(unique_genres)"
   ]
  },
  {
   "cell_type": "code",
   "execution_count": 7,
   "id": "dc2a725b-8735-4622-9d7c-2a0fe62195c8",
   "metadata": {
    "scrolled": true
   },
   "outputs": [],
   "source": [
    "# In this step i review all genres and clasify by hand the latins related include spain\n",
    "selected_genres = {\n",
    "    'r&b en espanol', 'latin alternative', 'tropical alternativo', 'trap triste',\n",
    "    'trap colombiano', 'pop electronico', 'rap boricua', 'reggaeton colombiano', 'mexican classic rock',\n",
    "    'salsa colombiana', 'bolero', 'miami hip hop', 'guaracha', 'bachata dominicana', 'mexican edm',\n",
    "    'narco rap', 'vallenato', 'experimental rock', 'colombian pop', 'argentine hip hop', 'dembow',\n",
    "    'pop argentino', 'cuban alternative', 'mexican pop', 'trap dominicano', 'trap chileno', 'puerto rican pop',\n",
    "    'champeta', 'el paso indie', 'drill espanol', 'rap latina', 'latin arena pop', 'spanish indie pop',\n",
    "    'spanish pop', 'venezuelan hip hop', 'chicano rap', 'nueva musica mexicana', 'trap boricua', 'trap mexicano',\n",
    "    'latin talent show', 'trap latino', 'latin rock', 'electro latino', 'colombian hip hop', 'rap espanol',\n",
    "    'concurso de talentos argentino', 'dominican pop', 'pop peruano', 'rap dominicano', 'trap venezolano',\n",
    "    'spanish hip hop', 'latin viral pop', 'pop nacional', 'mexican electronic', 'mexican hip hop', 'pop reggaeton',\n",
    "    'urbano espanol', 'latin hip hop', 'cumbia 420', 'cubaton', 'rock en espanol'\n",
    "}\n"
   ]
  },
  {
   "cell_type": "code",
   "execution_count": 8,
   "id": "2ba92e66-c195-4259-adba-e679175c029e",
   "metadata": {},
   "outputs": [],
   "source": [
    "# Clasify genres as latin or not latin \n",
    "def get_genre_type(genres):\n",
    "    if isinstance(genres, list):\n",
    "        for genre in genres:\n",
    "            # Normalize genre: lowercase and strip spaces\n",
    "            g = genre.strip().lower()\n",
    "            if g in selected_genres:\n",
    "                return 'latino'\n",
    "    return 'no_latino'\n",
    "\n",
    "df['genre_type'] = df['artist_genres'].apply(get_genre_type)"
   ]
  },
  {
   "cell_type": "code",
   "execution_count": 9,
   "id": "f09d5f40-e030-4a38-96d2-6f3b36a45fa0",
   "metadata": {},
   "outputs": [
    {
     "name": "stdout",
     "output_type": "stream",
     "text": [
      "Percentage of Latin genres streamings in the region: 6.29%\n"
     ]
    }
   ],
   "source": [
    "# Percentaje streaming latin and no latin in the region \n",
    "streamings_by_genre = df.groupby('genre_type')['streams'].sum()\n",
    "total_streamings = streamings_by_genre.sum()\n",
    "latin_streamings = streamings_by_genre.get('latino', 0)\n",
    "latin_percentage = (latin_streamings / total_streamings) * 100\n",
    "print(f\"Percentage of Latin genres streamings in the region: {latin_percentage:.2f}%\")"
   ]
  },
  {
   "cell_type": "code",
   "execution_count": 10,
   "id": "01f76b78-183e-433d-9c90-71d2b57bb74b",
   "metadata": {},
   "outputs": [
    {
     "name": "stdout",
     "output_type": "stream",
     "text": [
      "country_name\n",
      "Italy          8.640330\n",
      "Switzerland    8.105592\n",
      "Luxembourg     7.478445\n",
      "Belgium        4.566415\n",
      "Romania        4.376555\n",
      "France         3.892205\n",
      "dtype: float64\n"
     ]
    }
   ],
   "source": [
    "# Percentaje streaming Latin and no latin by countries\n",
    "streamings_by_country_genre = df.groupby(['country_name', 'genre_type'])['streams'].sum().unstack(fill_value=0)\n",
    "streamings_by_country = df.groupby('country_name')['streams'].sum()\n",
    "latin_percentage_by_country = (streamings_by_country_genre['latino'] / streamings_by_country) * 100\n",
    "print(latin_percentage_by_country.sort_values(ascending=False))"
   ]
  },
  {
   "cell_type": "code",
   "execution_count": 11,
   "id": "94874a36-cc6a-4fe7-90f4-7fa3cffeb2bf",
   "metadata": {},
   "outputs": [
    {
     "name": "stdout",
     "output_type": "stream",
     "text": [
      "                  track_id                                               name  \\\n",
      "0   2B4GHvToeLTOBB4QLzW3Ni                                              Pepas   \n",
      "1   6swHvavSroD4ur3Q18MjYz                  Una volta ancora (feat. Ana Mena)   \n",
      "2   5w9c2J52mkdntKOmRLeM2m                                          Con Calma   \n",
      "3   6osaMSJh9NguagEDQcZaKx              Loco Contigo (feat. J. Balvin & Tyga)   \n",
      "4   4w8niZpiMy6qz1mntFA5uM     Taki Taki (with Selena Gomez, Ozuna & Cardi B)   \n",
      "5   5iwz1NiezX7WWjnCgY5TH4                                      Calma - Remix   \n",
      "6   7k4t7uLgtOxPwTpFmtJNTY                                               Tusa   \n",
      "7   3ee8Jmje8o58CHK66QrVC2                                               SAD!   \n",
      "8   24IgCW19L8lXKyFZwzFtD3                                           MAMACITA   \n",
      "9   50DsGEqRiQr6KdEYi0NuSP                 s!r! (feat. Lazza & Sfera Ebbasta)   \n",
      "10  3YNcQUeVOpM3SDmwBeGfMK                              A Un Passo Dalla Luna   \n",
      "11  0JP9xo3adEtGSdUEISiszL                                          Moonlight   \n",
      "12  6cy3ki60hLwimwIje7tALf                          RITMO (Bad Boys For Life)   \n",
      "13  4aWmUDTfIPGksMNLV2rQP2                 Despacito (Featuring Daddy Yankee)   \n",
      "14  4MzXwWMhyBbmu6hOcLVD49                                             DÁKITI   \n",
      "15  3dCEtkAfWhk15bLAWZAKLy                 D'estate non vale (feat. Ana Mena)   \n",
      "16  7uH27oIt4a6cIFCA8ZPcyG                                  Baila Baila Baila   \n",
      "17  5Vwqy3CS2aCB6jcgm1qWfk                                   Amore e Capoeira   \n",
      "18  39N9RPD9MRb5WmoLzNzPeA                                                  X   \n",
      "19  4iMigesJsEKt8JczIwUrBO                            Un bacio all'improvviso   \n",
      "20  116H0KvKr2Zl4RPuVBruDO                                  MIA (feat. Drake)   \n",
      "21  2vBET2pmrQqafaS6zIaYta                                       GIRL LIKE ME   \n",
      "22  6dmXZ9B5HdFAyzHeTneYBK                          LA FAMA (with The Weeknd)   \n",
      "23  58q2HKrzhC3ozto2nDdN4z                                          I Like It   \n",
      "24  1zsG4eaZmkA1dvjDDsAGLK                                    Échame La Culpa   \n",
      "25  3V8UKqhEK5zBkBb6d6ub8i                                    Te Boté - Remix   \n",
      "26  0HFkCSXRTUHCYJ148PdD0v                              Paloma (feat. Anitta)   \n",
      "27  4nrPB8O7Y7wsOCJdgXkthe              Shakira: Bzrp Music Sessions, Vol. 53   \n",
      "28  7m9OqQk4RVRkw9JJdeAw96                                     Jocelyn Flores   \n",
      "29  3h043RAJ7tKaG1HDFeet6w                                 Hace Calor - Remix   \n",
      "30  4L5ZhW0VJeQ6je2iqvqZ4X                               Baby (with J Balvin)   \n",
      "31  1G2CAJeP7rCwOZjlSJ0Zw3                Que Calor (with J Balvin & El Alfa)   \n",
      "32  2rb5MvYT7ZIxbKW5hfcHx8                                           Mi Gente   \n",
      "33  2ksOAxtIxY8yElEWw8RhgK                                              China   \n",
      "34  0l8vhDaEztxLCQsFOAX64d                                              Pablo   \n",
      "35  6De0lHrwBfPfrhorm9q1Xl                                          Me Rehúso   \n",
      "36  6FyRXC8tJUh863JCkyWqtk                                         Adan y Eva   \n",
      "37  43ic0un1f9Nak0ZCQgvKjY                                           Yo No Sé   \n",
      "38  5CtI0qwDJkDQGwXD1H1cLb                                  Despacito - Remix   \n",
      "39  0YammaEkYSeo9vQYZ1OwS6                                        Say My Name   \n",
      "40  3VvA1wSxukMLsvXoXtlwWx                                       Hecha Pa' Mi   \n",
      "41  1xUnvxp9DFrpwXnO0RHKUp      Cookies N' Cream (feat. ANNA & Sfera Ebbasta)   \n",
      "42  7d7xucQmFY7PoESyJm2V9J                                          Mamma Mia   \n",
      "43  2j2fIJGh4PMdXt9ULI5Tlc                                               Dura   \n",
      "44  2LskIZrCeLxRvCiGP8gxlh          Arms Around You (feat. Maluma & Swae Lee)   \n",
      "45  4Ld3RS6KBXGsvtfmnjxlVl                  El Perdón (with Enrique Iglesias)   \n",
      "46  1kI7mZAziaRfBeAOraRW1i                Dorado (feat. Sfera Ebbasta & Feid)   \n",
      "47  6OYZvwKN8GaauTrJS1TuuH           Dancing On Dangerous (feat. Sofía Reyes)   \n",
      "48  7nKBxz47S9SD79N086fuhn  SUBEME LA RADIO (feat. Descemer Bueno & Zion &...   \n",
      "49  4w47S36wQGBhGg073q3nt7                           TKN (feat. Travis Scott)   \n",
      "\n",
      "                                              artists    streams  \n",
      "0                                         ['Farruko']  132909742  \n",
      "1                       ['Fred De Palma', 'Ana Mena']  113133104  \n",
      "2                            ['Daddy Yankee', 'Snow']   95982043  \n",
      "3                    ['DJ Snake', 'J Balvin', 'Tyga']   89547885  \n",
      "4    ['DJ Snake', 'Selena Gomez', 'Ozuna', 'Cardi B']   87587788  \n",
      "5                           ['Pedro Capó', 'Farruko']   87221656  \n",
      "6                          ['KAROL G', 'Nicki Minaj']   85688669  \n",
      "7                                    ['XXXTENTACION']   81117267  \n",
      "8         ['Black Eyed Peas', 'Ozuna', 'J. Rey Soul']   80188641  \n",
      "9                ['thasup', 'Lazza', 'Sfera Ebbasta']   78685096  \n",
      "10                         ['Rocco Hunt', 'Ana Mena']   78320354  \n",
      "11                                   ['XXXTENTACION']   77029348  \n",
      "12                    ['Black Eyed Peas', 'J Balvin']   67337328  \n",
      "13                     ['Luis Fonsi', 'Daddy Yankee']   65937014  \n",
      "14                       ['Bad Bunny', 'Jhay Cortez']   64347077  \n",
      "15                      ['Fred De Palma', 'Ana Mena']   61696739  \n",
      "16                                          ['Ozuna']   61135192  \n",
      "17  ['Takagi & Ketra', 'Giusy Ferreri', 'Sean King...   59174660  \n",
      "18                          ['Nicky Jam', 'J Balvin']   58788344  \n",
      "19                         ['Rocco Hunt', 'Ana Mena']   54126674  \n",
      "20                             ['Bad Bunny', 'Drake']   54114657  \n",
      "21                     ['Black Eyed Peas', 'Shakira']   48569282  \n",
      "22                          ['ROSALÍA', 'The Weeknd']   48101003  \n",
      "23               ['Cardi B', 'Bad Bunny', 'J Balvin']   46882602  \n",
      "24                      ['Luis Fonsi', 'Demi Lovato']   46079565  \n",
      "25  ['Nio Garcia', 'Casper Magico', 'Bad Bunny', '...   45467026  \n",
      "26                        ['Fred De Palma', 'Anitta']   43855216  \n",
      "27                            ['Bizarrap', 'Shakira']   43313182  \n",
      "28                                   ['XXXTENTACION']   43076907  \n",
      "29  ['Kaleb Di Masi', 'Sfera Ebbasta', 'Rvfv', 'Om...   42972598  \n",
      "30                      ['Sfera Ebbasta', 'J Balvin']   42443237  \n",
      "31    ['Major Lazer', 'J Balvin', 'El Alfa', 'Diplo']   41788502  \n",
      "32                      ['J Balvin', 'Willy William']   40515615  \n",
      "33  ['Anuel AA', 'Daddy Yankee', 'KAROL G', 'J Bal...   40474977  \n",
      "34                       ['Rvssian', 'Sfera Ebbasta']   39642635  \n",
      "35                                    ['Danny Ocean']   38613836  \n",
      "36                                   ['Paulo Londra']   37221944  \n",
      "37                              ['Rvfv', 'Pablo Mas']   37157165  \n",
      "38    ['Luis Fonsi', 'Daddy Yankee', 'Justin Bieber']   36967265  \n",
      "39         ['David Guetta', 'Bebe Rexha', 'J Balvin']   36611607  \n",
      "40                                           ['Boza']   35374101  \n",
      "41                   ['Guè', 'ANNA', 'Sfera Ebbasta']   35255326  \n",
      "42                       ['Sfera Ebbasta', 'Rvssian']   33668062  \n",
      "43                                   ['Daddy Yankee']   32700886  \n",
      "44  ['XXXTENTACION', 'Lil Pump', 'Swae Lee', 'Malu...   32520870  \n",
      "45                  ['Nicky Jam', 'Enrique Iglesias']   32344454  \n",
      "46               ['Mahmood', 'Sfera Ebbasta', 'Feid']   32206448  \n",
      "47            ['Imanbek', 'Sean Paul', 'Sofía Reyes']   31996926  \n",
      "48  ['Enrique Iglesias', 'Descemer Bueno', 'Zion &...   31246589  \n",
      "49                        ['ROSALÍA', 'Travis Scott']   30428068  \n"
     ]
    }
   ],
   "source": [
    "#Top 50 latins songs by region \n",
    "# Filter dataframe to keep only Latin songs\n",
    "latin_songs_df = df[df['genre_type'] == 'latino']\n",
    "# Use the filter dataframe and group by track_id and name, \n",
    "#summing streams and taking the first artist\n",
    "streams_per_song = latin_songs_df.groupby(['track_id', 'name']).agg({\n",
    "    'streams': 'sum',\n",
    "    'artists': 'first'\n",
    "})\n",
    "# Sort descending by streams\n",
    "streams_per_song_sorted = streams_per_song.sort_values('streams', ascending=False)\n",
    "# Get top 50 and reset index\n",
    "top_50_songs = streams_per_song_sorted.head(50).reset_index()\n",
    "# Reorder columns so that artists comes before streams\n",
    "top_50_songs = top_50_songs[['track_id', 'name', 'artists', 'streams']]\n",
    "print(top_50_songs)\n",
    "#save to xlsx\n",
    "top_50_songs.to_excel('top_50_latin_songs.xlsx', index=False)\n"
   ]
  }
 ],
 "metadata": {
  "kernelspec": {
   "display_name": "Python 3 (ipykernel)",
   "language": "python",
   "name": "python3"
  },
  "language_info": {
   "codemirror_mode": {
    "name": "ipython",
    "version": 3
   },
   "file_extension": ".py",
   "mimetype": "text/x-python",
   "name": "python",
   "nbconvert_exporter": "python",
   "pygments_lexer": "ipython3",
   "version": "3.13.3"
  }
 },
 "nbformat": 4,
 "nbformat_minor": 5
}
